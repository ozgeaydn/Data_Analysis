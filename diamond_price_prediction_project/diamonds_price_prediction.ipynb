{
 "cells": [
  {
   "cell_type": "markdown",
   "metadata": {},
   "source": [
    "# Importing some libraries for our operations."
   ]
  },
  {
   "cell_type": "code",
   "execution_count": 128,
   "metadata": {},
   "outputs": [],
   "source": [
    "import pandas as pd\n",
    "import numpy as np\n",
    "import matplotlib.pyplot as plt\n",
    "import seaborn as sns\n",
    "\n",
    "import warnings\n",
    "warnings.filterwarnings(\"ignore\")\n",
    "\n",
    "%matplotlib inline\n",
    "sns.set(rc={\"figure.figsize\":(13,10)})"
   ]
  },
  {
   "cell_type": "markdown",
   "metadata": {},
   "source": [
    "# Reading dataset using read_csv() function which is in pandas library."
   ]
  },
  {
   "cell_type": "code",
   "execution_count": 129,
   "metadata": {},
   "outputs": [],
   "source": [
    "df = pd.read_csv(\"diamonds.csv\")"
   ]
  },
  {
   "cell_type": "code",
   "execution_count": 130,
   "metadata": {},
   "outputs": [
    {
     "data": {
      "text/html": [
       "<div>\n",
       "<style scoped>\n",
       "    .dataframe tbody tr th:only-of-type {\n",
       "        vertical-align: middle;\n",
       "    }\n",
       "\n",
       "    .dataframe tbody tr th {\n",
       "        vertical-align: top;\n",
       "    }\n",
       "\n",
       "    .dataframe thead th {\n",
       "        text-align: right;\n",
       "    }\n",
       "</style>\n",
       "<table border=\"1\" class=\"dataframe\">\n",
       "  <thead>\n",
       "    <tr style=\"text-align: right;\">\n",
       "      <th></th>\n",
       "      <th>Unnamed: 0</th>\n",
       "      <th>carat</th>\n",
       "      <th>cut</th>\n",
       "      <th>color</th>\n",
       "      <th>clarity</th>\n",
       "      <th>depth</th>\n",
       "      <th>table</th>\n",
       "      <th>price</th>\n",
       "      <th>x</th>\n",
       "      <th>y</th>\n",
       "      <th>z</th>\n",
       "    </tr>\n",
       "  </thead>\n",
       "  <tbody>\n",
       "    <tr>\n",
       "      <th>0</th>\n",
       "      <td>1</td>\n",
       "      <td>0.23</td>\n",
       "      <td>Ideal</td>\n",
       "      <td>E</td>\n",
       "      <td>SI2</td>\n",
       "      <td>61.5</td>\n",
       "      <td>55.0</td>\n",
       "      <td>326</td>\n",
       "      <td>3.95</td>\n",
       "      <td>3.98</td>\n",
       "      <td>2.43</td>\n",
       "    </tr>\n",
       "    <tr>\n",
       "      <th>1</th>\n",
       "      <td>2</td>\n",
       "      <td>0.21</td>\n",
       "      <td>Premium</td>\n",
       "      <td>E</td>\n",
       "      <td>SI1</td>\n",
       "      <td>59.8</td>\n",
       "      <td>61.0</td>\n",
       "      <td>326</td>\n",
       "      <td>3.89</td>\n",
       "      <td>3.84</td>\n",
       "      <td>2.31</td>\n",
       "    </tr>\n",
       "    <tr>\n",
       "      <th>2</th>\n",
       "      <td>3</td>\n",
       "      <td>0.23</td>\n",
       "      <td>Good</td>\n",
       "      <td>E</td>\n",
       "      <td>VS1</td>\n",
       "      <td>56.9</td>\n",
       "      <td>65.0</td>\n",
       "      <td>327</td>\n",
       "      <td>4.05</td>\n",
       "      <td>4.07</td>\n",
       "      <td>2.31</td>\n",
       "    </tr>\n",
       "    <tr>\n",
       "      <th>3</th>\n",
       "      <td>4</td>\n",
       "      <td>0.29</td>\n",
       "      <td>Premium</td>\n",
       "      <td>I</td>\n",
       "      <td>VS2</td>\n",
       "      <td>62.4</td>\n",
       "      <td>58.0</td>\n",
       "      <td>334</td>\n",
       "      <td>4.20</td>\n",
       "      <td>4.23</td>\n",
       "      <td>2.63</td>\n",
       "    </tr>\n",
       "    <tr>\n",
       "      <th>4</th>\n",
       "      <td>5</td>\n",
       "      <td>0.31</td>\n",
       "      <td>Good</td>\n",
       "      <td>J</td>\n",
       "      <td>SI2</td>\n",
       "      <td>63.3</td>\n",
       "      <td>58.0</td>\n",
       "      <td>335</td>\n",
       "      <td>4.34</td>\n",
       "      <td>4.35</td>\n",
       "      <td>2.75</td>\n",
       "    </tr>\n",
       "  </tbody>\n",
       "</table>\n",
       "</div>"
      ],
      "text/plain": [
       "   Unnamed: 0  carat      cut color clarity  depth  table  price     x     y  \\\n",
       "0           1   0.23    Ideal     E     SI2   61.5   55.0    326  3.95  3.98   \n",
       "1           2   0.21  Premium     E     SI1   59.8   61.0    326  3.89  3.84   \n",
       "2           3   0.23     Good     E     VS1   56.9   65.0    327  4.05  4.07   \n",
       "3           4   0.29  Premium     I     VS2   62.4   58.0    334  4.20  4.23   \n",
       "4           5   0.31     Good     J     SI2   63.3   58.0    335  4.34  4.35   \n",
       "\n",
       "      z  \n",
       "0  2.43  \n",
       "1  2.31  \n",
       "2  2.31  \n",
       "3  2.63  \n",
       "4  2.75  "
      ]
     },
     "execution_count": 130,
     "metadata": {},
     "output_type": "execute_result"
    }
   ],
   "source": [
    "df.head()"
   ]
  },
  {
   "cell_type": "code",
   "execution_count": 131,
   "metadata": {},
   "outputs": [
    {
     "name": "stdout",
     "output_type": "stream",
     "text": [
      "<class 'pandas.core.frame.DataFrame'>\n",
      "RangeIndex: 53940 entries, 0 to 53939\n",
      "Data columns (total 11 columns):\n",
      " #   Column      Non-Null Count  Dtype  \n",
      "---  ------      --------------  -----  \n",
      " 0   Unnamed: 0  53940 non-null  int64  \n",
      " 1   carat       53940 non-null  float64\n",
      " 2   cut         53940 non-null  object \n",
      " 3   color       53940 non-null  object \n",
      " 4   clarity     53940 non-null  object \n",
      " 5   depth       53940 non-null  float64\n",
      " 6   table       53940 non-null  float64\n",
      " 7   price       53940 non-null  int64  \n",
      " 8   x           53940 non-null  float64\n",
      " 9   y           53940 non-null  float64\n",
      " 10  z           53940 non-null  float64\n",
      "dtypes: float64(6), int64(2), object(3)\n",
      "memory usage: 4.5+ MB\n"
     ]
    }
   ],
   "source": [
    "df.info()"
   ]
  },
  {
   "cell_type": "markdown",
   "metadata": {},
   "source": [
    "## Understanding the data dictionary\n",
    "- first column \"Unnamed:0\" is just as the index type so we can drop this column.\n",
    "- Continous type variable\n",
    "  - carat weight of the diamond\n",
    "  - x length in mm (0--10.74)\n",
    "  - y width in mm (0--58.9)\n",
    "  - z depth in mm (0--31.8)\n",
    "  - depth total depth percentage = z / mean(x, y)\n",
    "  - table width of top of diamond relative to widest point (43--95)\n",
    "- Categorical type variable\n",
    "  - cut quality of the cut (Fair, Good, Very Good, Premium, Ideal)\n",
    "  - color diamond colour, from J (worst) to D (best)\n",
    "  - clarity a measurement of how clear the diamond is (I1 (worst), SI2, SI1, VS2, VS1, VVS2, VVS1, IF (best)) \n"
   ]
  },
  {
   "cell_type": "code",
   "execution_count": 132,
   "metadata": {},
   "outputs": [
    {
     "data": {
      "text/plain": [
       "0         326\n",
       "1         326\n",
       "2         327\n",
       "3         334\n",
       "4         335\n",
       "         ... \n",
       "53935    2757\n",
       "53936    2757\n",
       "53937    2757\n",
       "53938    2757\n",
       "53939    2757\n",
       "Name: price, Length: 53940, dtype: int64"
      ]
     },
     "execution_count": 132,
     "metadata": {},
     "output_type": "execute_result"
    }
   ],
   "source": [
    "df.price"
   ]
  },
  {
   "cell_type": "markdown",
   "metadata": {},
   "source": [
    "### Sanity testing is performed to ensure that the code changes that are made are working as properly."
   ]
  },
  {
   "cell_type": "code",
   "execution_count": 133,
   "metadata": {},
   "outputs": [],
   "source": [
    "df.drop([\"Unnamed: 0\"] , axis=\"columns\" , inplace=True)"
   ]
  },
  {
   "cell_type": "code",
   "execution_count": 134,
   "metadata": {},
   "outputs": [
    {
     "data": {
      "text/html": [
       "<div>\n",
       "<style scoped>\n",
       "    .dataframe tbody tr th:only-of-type {\n",
       "        vertical-align: middle;\n",
       "    }\n",
       "\n",
       "    .dataframe tbody tr th {\n",
       "        vertical-align: top;\n",
       "    }\n",
       "\n",
       "    .dataframe thead th {\n",
       "        text-align: right;\n",
       "    }\n",
       "</style>\n",
       "<table border=\"1\" class=\"dataframe\">\n",
       "  <thead>\n",
       "    <tr style=\"text-align: right;\">\n",
       "      <th></th>\n",
       "      <th>carat</th>\n",
       "      <th>cut</th>\n",
       "      <th>color</th>\n",
       "      <th>clarity</th>\n",
       "      <th>depth</th>\n",
       "      <th>table</th>\n",
       "      <th>price</th>\n",
       "      <th>x</th>\n",
       "      <th>y</th>\n",
       "      <th>z</th>\n",
       "    </tr>\n",
       "  </thead>\n",
       "  <tbody>\n",
       "    <tr>\n",
       "      <th>0</th>\n",
       "      <td>0.23</td>\n",
       "      <td>Ideal</td>\n",
       "      <td>E</td>\n",
       "      <td>SI2</td>\n",
       "      <td>61.5</td>\n",
       "      <td>55.0</td>\n",
       "      <td>326</td>\n",
       "      <td>3.95</td>\n",
       "      <td>3.98</td>\n",
       "      <td>2.43</td>\n",
       "    </tr>\n",
       "    <tr>\n",
       "      <th>1</th>\n",
       "      <td>0.21</td>\n",
       "      <td>Premium</td>\n",
       "      <td>E</td>\n",
       "      <td>SI1</td>\n",
       "      <td>59.8</td>\n",
       "      <td>61.0</td>\n",
       "      <td>326</td>\n",
       "      <td>3.89</td>\n",
       "      <td>3.84</td>\n",
       "      <td>2.31</td>\n",
       "    </tr>\n",
       "    <tr>\n",
       "      <th>2</th>\n",
       "      <td>0.23</td>\n",
       "      <td>Good</td>\n",
       "      <td>E</td>\n",
       "      <td>VS1</td>\n",
       "      <td>56.9</td>\n",
       "      <td>65.0</td>\n",
       "      <td>327</td>\n",
       "      <td>4.05</td>\n",
       "      <td>4.07</td>\n",
       "      <td>2.31</td>\n",
       "    </tr>\n",
       "  </tbody>\n",
       "</table>\n",
       "</div>"
      ],
      "text/plain": [
       "   carat      cut color clarity  depth  table  price     x     y     z\n",
       "0   0.23    Ideal     E     SI2   61.5   55.0    326  3.95  3.98  2.43\n",
       "1   0.21  Premium     E     SI1   59.8   61.0    326  3.89  3.84  2.31\n",
       "2   0.23     Good     E     VS1   56.9   65.0    327  4.05  4.07  2.31"
      ]
     },
     "execution_count": 134,
     "metadata": {},
     "output_type": "execute_result"
    }
   ],
   "source": [
    "df.head(3)"
   ]
  },
  {
   "cell_type": "code",
   "execution_count": 135,
   "metadata": {},
   "outputs": [
    {
     "data": {
      "text/plain": [
       "Index(['carat', 'cut', 'color', 'clarity', 'depth', 'table', 'price', 'x', 'y',\n",
       "       'z'],\n",
       "      dtype='object')"
      ]
     },
     "execution_count": 135,
     "metadata": {},
     "output_type": "execute_result"
    }
   ],
   "source": [
    "df.columns"
   ]
  },
  {
   "cell_type": "code",
   "execution_count": 136,
   "metadata": {},
   "outputs": [
    {
     "data": {
      "text/html": [
       "<div>\n",
       "<style scoped>\n",
       "    .dataframe tbody tr th:only-of-type {\n",
       "        vertical-align: middle;\n",
       "    }\n",
       "\n",
       "    .dataframe tbody tr th {\n",
       "        vertical-align: top;\n",
       "    }\n",
       "\n",
       "    .dataframe thead th {\n",
       "        text-align: right;\n",
       "    }\n",
       "</style>\n",
       "<table border=\"1\" class=\"dataframe\">\n",
       "  <thead>\n",
       "    <tr style=\"text-align: right;\">\n",
       "      <th></th>\n",
       "      <th>count</th>\n",
       "      <th>mean</th>\n",
       "      <th>std</th>\n",
       "      <th>min</th>\n",
       "      <th>25%</th>\n",
       "      <th>50%</th>\n",
       "      <th>75%</th>\n",
       "      <th>max</th>\n",
       "    </tr>\n",
       "  </thead>\n",
       "  <tbody>\n",
       "    <tr>\n",
       "      <th>carat</th>\n",
       "      <td>53940.0</td>\n",
       "      <td>0.797940</td>\n",
       "      <td>0.474011</td>\n",
       "      <td>0.2</td>\n",
       "      <td>0.40</td>\n",
       "      <td>0.70</td>\n",
       "      <td>1.04</td>\n",
       "      <td>5.01</td>\n",
       "    </tr>\n",
       "    <tr>\n",
       "      <th>depth</th>\n",
       "      <td>53940.0</td>\n",
       "      <td>61.749405</td>\n",
       "      <td>1.432621</td>\n",
       "      <td>43.0</td>\n",
       "      <td>61.00</td>\n",
       "      <td>61.80</td>\n",
       "      <td>62.50</td>\n",
       "      <td>79.00</td>\n",
       "    </tr>\n",
       "    <tr>\n",
       "      <th>table</th>\n",
       "      <td>53940.0</td>\n",
       "      <td>57.457184</td>\n",
       "      <td>2.234491</td>\n",
       "      <td>43.0</td>\n",
       "      <td>56.00</td>\n",
       "      <td>57.00</td>\n",
       "      <td>59.00</td>\n",
       "      <td>95.00</td>\n",
       "    </tr>\n",
       "    <tr>\n",
       "      <th>price</th>\n",
       "      <td>53940.0</td>\n",
       "      <td>3932.799722</td>\n",
       "      <td>3989.439738</td>\n",
       "      <td>326.0</td>\n",
       "      <td>950.00</td>\n",
       "      <td>2401.00</td>\n",
       "      <td>5324.25</td>\n",
       "      <td>18823.00</td>\n",
       "    </tr>\n",
       "    <tr>\n",
       "      <th>x</th>\n",
       "      <td>53940.0</td>\n",
       "      <td>5.731157</td>\n",
       "      <td>1.121761</td>\n",
       "      <td>0.0</td>\n",
       "      <td>4.71</td>\n",
       "      <td>5.70</td>\n",
       "      <td>6.54</td>\n",
       "      <td>10.74</td>\n",
       "    </tr>\n",
       "    <tr>\n",
       "      <th>y</th>\n",
       "      <td>53940.0</td>\n",
       "      <td>5.734526</td>\n",
       "      <td>1.142135</td>\n",
       "      <td>0.0</td>\n",
       "      <td>4.72</td>\n",
       "      <td>5.71</td>\n",
       "      <td>6.54</td>\n",
       "      <td>58.90</td>\n",
       "    </tr>\n",
       "    <tr>\n",
       "      <th>z</th>\n",
       "      <td>53940.0</td>\n",
       "      <td>3.538734</td>\n",
       "      <td>0.705699</td>\n",
       "      <td>0.0</td>\n",
       "      <td>2.91</td>\n",
       "      <td>3.53</td>\n",
       "      <td>4.04</td>\n",
       "      <td>31.80</td>\n",
       "    </tr>\n",
       "  </tbody>\n",
       "</table>\n",
       "</div>"
      ],
      "text/plain": [
       "         count         mean          std    min     25%      50%      75%  \\\n",
       "carat  53940.0     0.797940     0.474011    0.2    0.40     0.70     1.04   \n",
       "depth  53940.0    61.749405     1.432621   43.0   61.00    61.80    62.50   \n",
       "table  53940.0    57.457184     2.234491   43.0   56.00    57.00    59.00   \n",
       "price  53940.0  3932.799722  3989.439738  326.0  950.00  2401.00  5324.25   \n",
       "x      53940.0     5.731157     1.121761    0.0    4.71     5.70     6.54   \n",
       "y      53940.0     5.734526     1.142135    0.0    4.72     5.71     6.54   \n",
       "z      53940.0     3.538734     0.705699    0.0    2.91     3.53     4.04   \n",
       "\n",
       "            max  \n",
       "carat      5.01  \n",
       "depth     79.00  \n",
       "table     95.00  \n",
       "price  18823.00  \n",
       "x         10.74  \n",
       "y         58.90  \n",
       "z         31.80  "
      ]
     },
     "execution_count": 136,
     "metadata": {},
     "output_type": "execute_result"
    }
   ],
   "source": [
    "df.describe().T   #To check the statistical data"
   ]
  },
  {
   "cell_type": "code",
   "execution_count": 137,
   "metadata": {},
   "outputs": [
    {
     "data": {
      "text/plain": [
       "(53940, 10)"
      ]
     },
     "execution_count": 137,
     "metadata": {},
     "output_type": "execute_result"
    }
   ],
   "source": [
    "df.shape"
   ]
  },
  {
   "cell_type": "markdown",
   "metadata": {},
   "source": [
    "### checking for unique values ​​of each categorical variable.(cut,clarity and color)"
   ]
  },
  {
   "cell_type": "code",
   "execution_count": 138,
   "metadata": {},
   "outputs": [
    {
     "data": {
      "text/plain": [
       "Ideal        21551\n",
       "Premium      13791\n",
       "Very Good    12082\n",
       "Good          4906\n",
       "Fair          1610\n",
       "Name: cut, dtype: int64"
      ]
     },
     "execution_count": 138,
     "metadata": {},
     "output_type": "execute_result"
    }
   ],
   "source": [
    "df[\"cut\"].value_counts()"
   ]
  },
  {
   "cell_type": "code",
   "execution_count": 139,
   "metadata": {},
   "outputs": [
    {
     "data": {
      "text/plain": [
       "SI1     13065\n",
       "VS2     12258\n",
       "SI2      9194\n",
       "VS1      8171\n",
       "VVS2     5066\n",
       "VVS1     3655\n",
       "IF       1790\n",
       "I1        741\n",
       "Name: clarity, dtype: int64"
      ]
     },
     "execution_count": 139,
     "metadata": {},
     "output_type": "execute_result"
    }
   ],
   "source": [
    "df.clarity.value_counts()"
   ]
  },
  {
   "cell_type": "code",
   "execution_count": 140,
   "metadata": {},
   "outputs": [
    {
     "data": {
      "text/plain": [
       "array(['E', 'I', 'J', 'H', 'F', 'G', 'D'], dtype=object)"
      ]
     },
     "execution_count": 140,
     "metadata": {},
     "output_type": "execute_result"
    }
   ],
   "source": [
    "df.color.unique()"
   ]
  },
  {
   "cell_type": "code",
   "execution_count": 141,
   "metadata": {},
   "outputs": [
    {
     "data": {
      "text/plain": [
       "G    11292\n",
       "E     9797\n",
       "F     9542\n",
       "H     8304\n",
       "D     6775\n",
       "I     5422\n",
       "J     2808\n",
       "Name: color, dtype: int64"
      ]
     },
     "execution_count": 141,
     "metadata": {},
     "output_type": "execute_result"
    }
   ],
   "source": [
    "df[\"color\"].value_counts()"
   ]
  },
  {
   "cell_type": "code",
   "execution_count": 142,
   "metadata": {},
   "outputs": [
    {
     "data": {
      "text/plain": [
       "carat      float64\n",
       "cut         object\n",
       "color       object\n",
       "clarity     object\n",
       "depth      float64\n",
       "table      float64\n",
       "price        int64\n",
       "x          float64\n",
       "y          float64\n",
       "z          float64\n",
       "dtype: object"
      ]
     },
     "execution_count": 142,
     "metadata": {},
     "output_type": "execute_result"
    }
   ],
   "source": [
    "df.dtypes"
   ]
  },
  {
   "cell_type": "markdown",
   "metadata": {},
   "source": [
    "# Exploratory Data Analysis(EDA): \n",
    "## EDA  is used to perform analysis using the proporties of the dataset.\n",
    "  \n",
    "  Numerical Analysis ( Target variable vs remaing continous variables):"
   ]
  },
  {
   "cell_type": "code",
   "execution_count": 143,
   "metadata": {},
   "outputs": [],
   "source": [
    "cont = ['price' , 'carat', 'depth' , 'table' , 'x' , 'y' , 'z']\n",
    "cat  = ['cut' , 'color' , 'clarity']"
   ]
  },
  {
   "cell_type": "code",
   "execution_count": 144,
   "metadata": {},
   "outputs": [
    {
     "data": {
      "image/png": "[encoded data removed]",
      "text/plain": [
       "<Figure size 180x180 with 1 Axes>"
      ]
     },
     "metadata": {},
     "output_type": "display_data"
    },
    {
     "data": {
      "image/png": "[encoded data removed]",
      "text/plain": [
       "<Figure size 180x180 with 1 Axes>"
      ]
     },
     "metadata": {},
     "output_type": "display_data"
    },
    {
     "data": {
      "image/png": "[encoded data removed]",
      "text/plain": [
       "<Figure size 180x180 with 1 Axes>"
      ]
     },
     "metadata": {},
     "output_type": "display_data"
    },
    {
     "data": {
      "image/png": "[encoded data removed]",
      "text/plain": [
       "<Figure size 180x180 with 1 Axes>"
      ]
     },
     "metadata": {},
     "output_type": "display_data"
    },
    {
     "data": {
      "image/png": "[encoded data removed]",
      "text/plain": [
       "<Figure size 180x180 with 1 Axes>"
      ]
     },
     "metadata": {},
     "output_type": "display_data"
    },
    {
     "data": {
      "image/png": "[encoded data removed]",
      "text/plain": [
       "<Figure size 180x180 with 1 Axes>"
      ]
     },
     "metadata": {},
     "output_type": "display_data"
    }
   ],
   "source": [
    "for col in cont[1:]:\n",
    "    sns.pairplot(data = df , x_vars = col , y_vars = 'price' , diag_kind=None )"
   ]
  },
  {
   "cell_type": "markdown",
   "metadata": {},
   "source": [
    "## There is a good linear relationship between the x, y, z, carat and price variables"
   ]
  },
  {
   "cell_type": "markdown",
   "metadata": {},
   "source": [
    "### To find the correlation between the numerical variables we will use heatmap."
   ]
  },
  {
   "cell_type": "code",
   "execution_count": 145,
   "metadata": {},
   "outputs": [
    {
     "data": {
      "text/plain": [
       "<AxesSubplot:>"
      ]
     },
     "execution_count": 145,
     "metadata": {},
     "output_type": "execute_result"
    },
    {
     "data": {
      "image/png": "[encoded data removed]",
      "text/plain": [
       "<Figure size 936x720 with 2 Axes>"
      ]
     },
     "metadata": {},
     "output_type": "display_data"
    }
   ],
   "source": [
    "sns.heatmap(df[cont].corr() , annot=True , cmap = 'BuPu_r')"
   ]
  },
  {
   "cell_type": "markdown",
   "metadata": {},
   "source": [
    "- \"x\" - \"y\" correlation -> 0.97. (strongest correlation)\n",
    "- \"price\" -\"carat\" correlation ->  0.92 (good correlation)\n",
    "- \"table\" - \"price\" -> 0.13 (poor correlation)\n",
    "- \"depth\" - \"y\" correlation -> -0.029 (weakest corelation)"
   ]
  },
  {
   "cell_type": "code",
   "execution_count": 146,
   "metadata": {},
   "outputs": [
    {
     "data": {
      "image/png": "[encoded data removed]",
      "text/plain": [
       "<Figure size 1080x288 with 3 Axes>"
      ]
     },
     "metadata": {},
     "output_type": "display_data"
    },
    {
     "data": {
      "image/png": "[encoded data removed]",
      "text/plain": [
       "<Figure size 1080x288 with 3 Axes>"
      ]
     },
     "metadata": {},
     "output_type": "display_data"
    }
   ],
   "source": [
    "fig = plt.figure(figsize=(15,4))\n",
    "    \n",
    "for i in range(len(cat)):\n",
    "    fig.add_subplot(1,3,i+1)\n",
    "    sns.countplot(df[cat[i]])\n",
    "    plt.title(\"Count distribution of {} type in diamond dataset\".format(cat[i]))\n",
    "plt.show()\n",
    "\n",
    "fig = plt.figure(figsize=(15, 4))\n",
    "for j in range(len(cat)):\n",
    "    fig.add_subplot(1,3,j+1)\n",
    "    sns.barplot(x=cat[j], y =\"price\" , data = df) \n",
    "    plt.title(\"Total price distribution for each {} type\".format(cat[j]))\n",
    "    \n",
    "plt.show()    "
   ]
  },
  {
   "cell_type": "markdown",
   "metadata": {},
   "source": [
    "### We use get_dummies() function to convert categorical variable to dummy/indicator variables because many machine learning algorithms do not support string values ​​for input variables."
   ]
  },
  {
   "cell_type": "code",
   "execution_count": 147,
   "metadata": {},
   "outputs": [],
   "source": [
    "cut = pd.get_dummies(df[\"cut\"] , drop_first=True)\n",
    "color = pd.get_dummies(df[\"color\"] , drop_first=True)\n",
    "clarity = pd.get_dummies(df[\"clarity\"] , drop_first=True)"
   ]
  },
  {
   "cell_type": "code",
   "execution_count": 148,
   "metadata": {},
   "outputs": [],
   "source": [
    "df1 = df.join([cut , clarity , color ] )"
   ]
  },
  {
   "cell_type": "code",
   "execution_count": 149,
   "metadata": {},
   "outputs": [
    {
     "data": {
      "text/html": [
       "<div>\n",
       "<style scoped>\n",
       "    .dataframe tbody tr th:only-of-type {\n",
       "        vertical-align: middle;\n",
       "    }\n",
       "\n",
       "    .dataframe tbody tr th {\n",
       "        vertical-align: top;\n",
       "    }\n",
       "\n",
       "    .dataframe thead th {\n",
       "        text-align: right;\n",
       "    }\n",
       "</style>\n",
       "<table border=\"1\" class=\"dataframe\">\n",
       "  <thead>\n",
       "    <tr style=\"text-align: right;\">\n",
       "      <th></th>\n",
       "      <th>carat</th>\n",
       "      <th>cut</th>\n",
       "      <th>color</th>\n",
       "      <th>clarity</th>\n",
       "      <th>depth</th>\n",
       "      <th>table</th>\n",
       "      <th>price</th>\n",
       "      <th>x</th>\n",
       "      <th>y</th>\n",
       "      <th>z</th>\n",
       "      <th>...</th>\n",
       "      <th>VS1</th>\n",
       "      <th>VS2</th>\n",
       "      <th>VVS1</th>\n",
       "      <th>VVS2</th>\n",
       "      <th>E</th>\n",
       "      <th>F</th>\n",
       "      <th>G</th>\n",
       "      <th>H</th>\n",
       "      <th>I</th>\n",
       "      <th>J</th>\n",
       "    </tr>\n",
       "  </thead>\n",
       "  <tbody>\n",
       "    <tr>\n",
       "      <th>0</th>\n",
       "      <td>0.23</td>\n",
       "      <td>Ideal</td>\n",
       "      <td>E</td>\n",
       "      <td>SI2</td>\n",
       "      <td>61.5</td>\n",
       "      <td>55.0</td>\n",
       "      <td>326</td>\n",
       "      <td>3.95</td>\n",
       "      <td>3.98</td>\n",
       "      <td>2.43</td>\n",
       "      <td>...</td>\n",
       "      <td>0</td>\n",
       "      <td>0</td>\n",
       "      <td>0</td>\n",
       "      <td>0</td>\n",
       "      <td>1</td>\n",
       "      <td>0</td>\n",
       "      <td>0</td>\n",
       "      <td>0</td>\n",
       "      <td>0</td>\n",
       "      <td>0</td>\n",
       "    </tr>\n",
       "    <tr>\n",
       "      <th>1</th>\n",
       "      <td>0.21</td>\n",
       "      <td>Premium</td>\n",
       "      <td>E</td>\n",
       "      <td>SI1</td>\n",
       "      <td>59.8</td>\n",
       "      <td>61.0</td>\n",
       "      <td>326</td>\n",
       "      <td>3.89</td>\n",
       "      <td>3.84</td>\n",
       "      <td>2.31</td>\n",
       "      <td>...</td>\n",
       "      <td>0</td>\n",
       "      <td>0</td>\n",
       "      <td>0</td>\n",
       "      <td>0</td>\n",
       "      <td>1</td>\n",
       "      <td>0</td>\n",
       "      <td>0</td>\n",
       "      <td>0</td>\n",
       "      <td>0</td>\n",
       "      <td>0</td>\n",
       "    </tr>\n",
       "    <tr>\n",
       "      <th>2</th>\n",
       "      <td>0.23</td>\n",
       "      <td>Good</td>\n",
       "      <td>E</td>\n",
       "      <td>VS1</td>\n",
       "      <td>56.9</td>\n",
       "      <td>65.0</td>\n",
       "      <td>327</td>\n",
       "      <td>4.05</td>\n",
       "      <td>4.07</td>\n",
       "      <td>2.31</td>\n",
       "      <td>...</td>\n",
       "      <td>1</td>\n",
       "      <td>0</td>\n",
       "      <td>0</td>\n",
       "      <td>0</td>\n",
       "      <td>1</td>\n",
       "      <td>0</td>\n",
       "      <td>0</td>\n",
       "      <td>0</td>\n",
       "      <td>0</td>\n",
       "      <td>0</td>\n",
       "    </tr>\n",
       "    <tr>\n",
       "      <th>3</th>\n",
       "      <td>0.29</td>\n",
       "      <td>Premium</td>\n",
       "      <td>I</td>\n",
       "      <td>VS2</td>\n",
       "      <td>62.4</td>\n",
       "      <td>58.0</td>\n",
       "      <td>334</td>\n",
       "      <td>4.20</td>\n",
       "      <td>4.23</td>\n",
       "      <td>2.63</td>\n",
       "      <td>...</td>\n",
       "      <td>0</td>\n",
       "      <td>1</td>\n",
       "      <td>0</td>\n",
       "      <td>0</td>\n",
       "      <td>0</td>\n",
       "      <td>0</td>\n",
       "      <td>0</td>\n",
       "      <td>0</td>\n",
       "      <td>1</td>\n",
       "      <td>0</td>\n",
       "    </tr>\n",
       "    <tr>\n",
       "      <th>4</th>\n",
       "      <td>0.31</td>\n",
       "      <td>Good</td>\n",
       "      <td>J</td>\n",
       "      <td>SI2</td>\n",
       "      <td>63.3</td>\n",
       "      <td>58.0</td>\n",
       "      <td>335</td>\n",
       "      <td>4.34</td>\n",
       "      <td>4.35</td>\n",
       "      <td>2.75</td>\n",
       "      <td>...</td>\n",
       "      <td>0</td>\n",
       "      <td>0</td>\n",
       "      <td>0</td>\n",
       "      <td>0</td>\n",
       "      <td>0</td>\n",
       "      <td>0</td>\n",
       "      <td>0</td>\n",
       "      <td>0</td>\n",
       "      <td>0</td>\n",
       "      <td>1</td>\n",
       "    </tr>\n",
       "  </tbody>\n",
       "</table>\n",
       "<p>5 rows × 27 columns</p>\n",
       "</div>"
      ],
      "text/plain": [
       "   carat      cut color clarity  depth  table  price     x     y     z  ...  \\\n",
       "0   0.23    Ideal     E     SI2   61.5   55.0    326  3.95  3.98  2.43  ...   \n",
       "1   0.21  Premium     E     SI1   59.8   61.0    326  3.89  3.84  2.31  ...   \n",
       "2   0.23     Good     E     VS1   56.9   65.0    327  4.05  4.07  2.31  ...   \n",
       "3   0.29  Premium     I     VS2   62.4   58.0    334  4.20  4.23  2.63  ...   \n",
       "4   0.31     Good     J     SI2   63.3   58.0    335  4.34  4.35  2.75  ...   \n",
       "\n",
       "   VS1  VS2  VVS1  VVS2  E  F  G  H  I  J  \n",
       "0    0    0     0     0  1  0  0  0  0  0  \n",
       "1    0    0     0     0  1  0  0  0  0  0  \n",
       "2    1    0     0     0  1  0  0  0  0  0  \n",
       "3    0    1     0     0  0  0  0  0  1  0  \n",
       "4    0    0     0     0  0  0  0  0  0  1  \n",
       "\n",
       "[5 rows x 27 columns]"
      ]
     },
     "execution_count": 149,
     "metadata": {},
     "output_type": "execute_result"
    }
   ],
   "source": [
    "df1.head()"
   ]
  },
  {
   "cell_type": "code",
   "execution_count": 150,
   "metadata": {},
   "outputs": [],
   "source": [
    "df1.drop(cat ,axis = 1, inplace=True)"
   ]
  },
  {
   "cell_type": "code",
   "execution_count": 151,
   "metadata": {},
   "outputs": [
    {
     "data": {
      "text/html": [
       "<div>\n",
       "<style scoped>\n",
       "    .dataframe tbody tr th:only-of-type {\n",
       "        vertical-align: middle;\n",
       "    }\n",
       "\n",
       "    .dataframe tbody tr th {\n",
       "        vertical-align: top;\n",
       "    }\n",
       "\n",
       "    .dataframe thead th {\n",
       "        text-align: right;\n",
       "    }\n",
       "</style>\n",
       "<table border=\"1\" class=\"dataframe\">\n",
       "  <thead>\n",
       "    <tr style=\"text-align: right;\">\n",
       "      <th></th>\n",
       "      <th>carat</th>\n",
       "      <th>depth</th>\n",
       "      <th>table</th>\n",
       "      <th>price</th>\n",
       "      <th>x</th>\n",
       "      <th>y</th>\n",
       "      <th>z</th>\n",
       "      <th>Good</th>\n",
       "      <th>Ideal</th>\n",
       "      <th>Premium</th>\n",
       "      <th>...</th>\n",
       "      <th>VS1</th>\n",
       "      <th>VS2</th>\n",
       "      <th>VVS1</th>\n",
       "      <th>VVS2</th>\n",
       "      <th>E</th>\n",
       "      <th>F</th>\n",
       "      <th>G</th>\n",
       "      <th>H</th>\n",
       "      <th>I</th>\n",
       "      <th>J</th>\n",
       "    </tr>\n",
       "  </thead>\n",
       "  <tbody>\n",
       "    <tr>\n",
       "      <th>0</th>\n",
       "      <td>0.23</td>\n",
       "      <td>61.5</td>\n",
       "      <td>55.0</td>\n",
       "      <td>326</td>\n",
       "      <td>3.95</td>\n",
       "      <td>3.98</td>\n",
       "      <td>2.43</td>\n",
       "      <td>0</td>\n",
       "      <td>1</td>\n",
       "      <td>0</td>\n",
       "      <td>...</td>\n",
       "      <td>0</td>\n",
       "      <td>0</td>\n",
       "      <td>0</td>\n",
       "      <td>0</td>\n",
       "      <td>1</td>\n",
       "      <td>0</td>\n",
       "      <td>0</td>\n",
       "      <td>0</td>\n",
       "      <td>0</td>\n",
       "      <td>0</td>\n",
       "    </tr>\n",
       "    <tr>\n",
       "      <th>1</th>\n",
       "      <td>0.21</td>\n",
       "      <td>59.8</td>\n",
       "      <td>61.0</td>\n",
       "      <td>326</td>\n",
       "      <td>3.89</td>\n",
       "      <td>3.84</td>\n",
       "      <td>2.31</td>\n",
       "      <td>0</td>\n",
       "      <td>0</td>\n",
       "      <td>1</td>\n",
       "      <td>...</td>\n",
       "      <td>0</td>\n",
       "      <td>0</td>\n",
       "      <td>0</td>\n",
       "      <td>0</td>\n",
       "      <td>1</td>\n",
       "      <td>0</td>\n",
       "      <td>0</td>\n",
       "      <td>0</td>\n",
       "      <td>0</td>\n",
       "      <td>0</td>\n",
       "    </tr>\n",
       "    <tr>\n",
       "      <th>2</th>\n",
       "      <td>0.23</td>\n",
       "      <td>56.9</td>\n",
       "      <td>65.0</td>\n",
       "      <td>327</td>\n",
       "      <td>4.05</td>\n",
       "      <td>4.07</td>\n",
       "      <td>2.31</td>\n",
       "      <td>1</td>\n",
       "      <td>0</td>\n",
       "      <td>0</td>\n",
       "      <td>...</td>\n",
       "      <td>1</td>\n",
       "      <td>0</td>\n",
       "      <td>0</td>\n",
       "      <td>0</td>\n",
       "      <td>1</td>\n",
       "      <td>0</td>\n",
       "      <td>0</td>\n",
       "      <td>0</td>\n",
       "      <td>0</td>\n",
       "      <td>0</td>\n",
       "    </tr>\n",
       "    <tr>\n",
       "      <th>3</th>\n",
       "      <td>0.29</td>\n",
       "      <td>62.4</td>\n",
       "      <td>58.0</td>\n",
       "      <td>334</td>\n",
       "      <td>4.20</td>\n",
       "      <td>4.23</td>\n",
       "      <td>2.63</td>\n",
       "      <td>0</td>\n",
       "      <td>0</td>\n",
       "      <td>1</td>\n",
       "      <td>...</td>\n",
       "      <td>0</td>\n",
       "      <td>1</td>\n",
       "      <td>0</td>\n",
       "      <td>0</td>\n",
       "      <td>0</td>\n",
       "      <td>0</td>\n",
       "      <td>0</td>\n",
       "      <td>0</td>\n",
       "      <td>1</td>\n",
       "      <td>0</td>\n",
       "    </tr>\n",
       "    <tr>\n",
       "      <th>4</th>\n",
       "      <td>0.31</td>\n",
       "      <td>63.3</td>\n",
       "      <td>58.0</td>\n",
       "      <td>335</td>\n",
       "      <td>4.34</td>\n",
       "      <td>4.35</td>\n",
       "      <td>2.75</td>\n",
       "      <td>1</td>\n",
       "      <td>0</td>\n",
       "      <td>0</td>\n",
       "      <td>...</td>\n",
       "      <td>0</td>\n",
       "      <td>0</td>\n",
       "      <td>0</td>\n",
       "      <td>0</td>\n",
       "      <td>0</td>\n",
       "      <td>0</td>\n",
       "      <td>0</td>\n",
       "      <td>0</td>\n",
       "      <td>0</td>\n",
       "      <td>1</td>\n",
       "    </tr>\n",
       "  </tbody>\n",
       "</table>\n",
       "<p>5 rows × 24 columns</p>\n",
       "</div>"
      ],
      "text/plain": [
       "   carat  depth  table  price     x     y     z  Good  Ideal  Premium  ...  \\\n",
       "0   0.23   61.5   55.0    326  3.95  3.98  2.43     0      1        0  ...   \n",
       "1   0.21   59.8   61.0    326  3.89  3.84  2.31     0      0        1  ...   \n",
       "2   0.23   56.9   65.0    327  4.05  4.07  2.31     1      0        0  ...   \n",
       "3   0.29   62.4   58.0    334  4.20  4.23  2.63     0      0        1  ...   \n",
       "4   0.31   63.3   58.0    335  4.34  4.35  2.75     1      0        0  ...   \n",
       "\n",
       "   VS1  VS2  VVS1  VVS2  E  F  G  H  I  J  \n",
       "0    0    0     0     0  1  0  0  0  0  0  \n",
       "1    0    0     0     0  1  0  0  0  0  0  \n",
       "2    1    0     0     0  1  0  0  0  0  0  \n",
       "3    0    1     0     0  0  0  0  0  1  0  \n",
       "4    0    0     0     0  0  0  0  0  0  1  \n",
       "\n",
       "[5 rows x 24 columns]"
      ]
     },
     "execution_count": 151,
     "metadata": {},
     "output_type": "execute_result"
    }
   ],
   "source": [
    "df1.head()"
   ]
  },
  {
   "cell_type": "markdown",
   "metadata": {},
   "source": [
    "# Training The Model"
   ]
  },
  {
   "cell_type": "code",
   "execution_count": 152,
   "metadata": {},
   "outputs": [],
   "source": [
    "import sklearn \n",
    "from sklearn.model_selection import train_test_split"
   ]
  },
  {
   "cell_type": "code",
   "execution_count": 153,
   "metadata": {},
   "outputs": [],
   "source": [
    "df_train , df_test = train_test_split(df1 , train_size = 0.7 , random_state = 100)"
   ]
  },
  {
   "cell_type": "code",
   "execution_count": 154,
   "metadata": {},
   "outputs": [
    {
     "data": {
      "text/plain": [
       "(53940, 24)"
      ]
     },
     "execution_count": 154,
     "metadata": {},
     "output_type": "execute_result"
    }
   ],
   "source": [
    "df1.shape"
   ]
  },
  {
   "cell_type": "code",
   "execution_count": 155,
   "metadata": {},
   "outputs": [
    {
     "data": {
      "text/plain": [
       "(16182, 24)"
      ]
     },
     "execution_count": 155,
     "metadata": {},
     "output_type": "execute_result"
    }
   ],
   "source": [
    "df_test.shape"
   ]
  },
  {
   "cell_type": "code",
   "execution_count": 156,
   "metadata": {},
   "outputs": [
    {
     "data": {
      "text/plain": [
       "(37758, 24)"
      ]
     },
     "execution_count": 156,
     "metadata": {},
     "output_type": "execute_result"
    }
   ],
   "source": [
    "df_train.shape"
   ]
  },
  {
   "cell_type": "code",
   "execution_count": 157,
   "metadata": {},
   "outputs": [
    {
     "data": {
      "text/html": [
       "<div>\n",
       "<style scoped>\n",
       "    .dataframe tbody tr th:only-of-type {\n",
       "        vertical-align: middle;\n",
       "    }\n",
       "\n",
       "    .dataframe tbody tr th {\n",
       "        vertical-align: top;\n",
       "    }\n",
       "\n",
       "    .dataframe thead th {\n",
       "        text-align: right;\n",
       "    }\n",
       "</style>\n",
       "<table border=\"1\" class=\"dataframe\">\n",
       "  <thead>\n",
       "    <tr style=\"text-align: right;\">\n",
       "      <th></th>\n",
       "      <th>price</th>\n",
       "      <th>carat</th>\n",
       "      <th>depth</th>\n",
       "      <th>table</th>\n",
       "      <th>x</th>\n",
       "      <th>y</th>\n",
       "      <th>z</th>\n",
       "    </tr>\n",
       "  </thead>\n",
       "  <tbody>\n",
       "    <tr>\n",
       "      <th>29477</th>\n",
       "      <td>702</td>\n",
       "      <td>0.32</td>\n",
       "      <td>61.3</td>\n",
       "      <td>56.0</td>\n",
       "      <td>4.40</td>\n",
       "      <td>4.44</td>\n",
       "      <td>2.71</td>\n",
       "    </tr>\n",
       "    <tr>\n",
       "      <th>52542</th>\n",
       "      <td>2532</td>\n",
       "      <td>0.72</td>\n",
       "      <td>61.7</td>\n",
       "      <td>55.0</td>\n",
       "      <td>5.76</td>\n",
       "      <td>5.81</td>\n",
       "      <td>3.57</td>\n",
       "    </tr>\n",
       "    <tr>\n",
       "      <th>8725</th>\n",
       "      <td>586</td>\n",
       "      <td>0.38</td>\n",
       "      <td>62.0</td>\n",
       "      <td>55.0</td>\n",
       "      <td>4.67</td>\n",
       "      <td>4.72</td>\n",
       "      <td>2.91</td>\n",
       "    </tr>\n",
       "    <tr>\n",
       "      <th>15577</th>\n",
       "      <td>6249</td>\n",
       "      <td>1.00</td>\n",
       "      <td>62.6</td>\n",
       "      <td>56.0</td>\n",
       "      <td>6.36</td>\n",
       "      <td>6.39</td>\n",
       "      <td>3.99</td>\n",
       "    </tr>\n",
       "    <tr>\n",
       "      <th>19651</th>\n",
       "      <td>8263</td>\n",
       "      <td>1.70</td>\n",
       "      <td>59.8</td>\n",
       "      <td>61.0</td>\n",
       "      <td>7.67</td>\n",
       "      <td>7.62</td>\n",
       "      <td>4.57</td>\n",
       "    </tr>\n",
       "  </tbody>\n",
       "</table>\n",
       "</div>"
      ],
      "text/plain": [
       "       price  carat  depth  table     x     y     z\n",
       "29477    702   0.32   61.3   56.0  4.40  4.44  2.71\n",
       "52542   2532   0.72   61.7   55.0  5.76  5.81  3.57\n",
       "8725     586   0.38   62.0   55.0  4.67  4.72  2.91\n",
       "15577   6249   1.00   62.6   56.0  6.36  6.39  3.99\n",
       "19651   8263   1.70   59.8   61.0  7.67  7.62  4.57"
      ]
     },
     "execution_count": 157,
     "metadata": {},
     "output_type": "execute_result"
    }
   ],
   "source": [
    "df_train[cont].head()"
   ]
  },
  {
   "cell_type": "markdown",
   "metadata": {},
   "source": [
    "+ Variables that are measured at different scales do not contribute equally to the model fitting & model learned function and might end up creating a bias.Thus, to deal with this potential problem feature-wise normalization such as MinMax Scaling is usually used prior to model fitting.Data is scaled from 0 to 1."
   ]
  },
  {
   "cell_type": "code",
   "execution_count": 158,
   "metadata": {},
   "outputs": [],
   "source": [
    "from sklearn.preprocessing import MinMaxScaler\n",
    "scaler = MinMaxScaler()"
   ]
  },
  {
   "cell_type": "code",
   "execution_count": 159,
   "metadata": {},
   "outputs": [],
   "source": [
    "df_train[cont] = scaler.fit_transform(df_train[cont])"
   ]
  },
  {
   "cell_type": "code",
   "execution_count": 160,
   "metadata": {},
   "outputs": [
    {
     "data": {
      "text/html": [
       "<div>\n",
       "<style scoped>\n",
       "    .dataframe tbody tr th:only-of-type {\n",
       "        vertical-align: middle;\n",
       "    }\n",
       "\n",
       "    .dataframe tbody tr th {\n",
       "        vertical-align: top;\n",
       "    }\n",
       "\n",
       "    .dataframe thead th {\n",
       "        text-align: right;\n",
       "    }\n",
       "</style>\n",
       "<table border=\"1\" class=\"dataframe\">\n",
       "  <thead>\n",
       "    <tr style=\"text-align: right;\">\n",
       "      <th></th>\n",
       "      <th>price</th>\n",
       "      <th>carat</th>\n",
       "      <th>depth</th>\n",
       "      <th>table</th>\n",
       "      <th>x</th>\n",
       "      <th>y</th>\n",
       "      <th>z</th>\n",
       "    </tr>\n",
       "  </thead>\n",
       "  <tbody>\n",
       "    <tr>\n",
       "      <th>29477</th>\n",
       "      <td>0.020328</td>\n",
       "      <td>0.024948</td>\n",
       "      <td>0.508333</td>\n",
       "      <td>0.250000</td>\n",
       "      <td>0.409683</td>\n",
       "      <td>0.075382</td>\n",
       "      <td>0.336228</td>\n",
       "    </tr>\n",
       "    <tr>\n",
       "      <th>52542</th>\n",
       "      <td>0.119263</td>\n",
       "      <td>0.108108</td>\n",
       "      <td>0.519444</td>\n",
       "      <td>0.230769</td>\n",
       "      <td>0.536313</td>\n",
       "      <td>0.098642</td>\n",
       "      <td>0.442928</td>\n",
       "    </tr>\n",
       "    <tr>\n",
       "      <th>8725</th>\n",
       "      <td>0.014056</td>\n",
       "      <td>0.037422</td>\n",
       "      <td>0.527778</td>\n",
       "      <td>0.230769</td>\n",
       "      <td>0.434823</td>\n",
       "      <td>0.080136</td>\n",
       "      <td>0.361042</td>\n",
       "    </tr>\n",
       "    <tr>\n",
       "      <th>15577</th>\n",
       "      <td>0.320214</td>\n",
       "      <td>0.166320</td>\n",
       "      <td>0.544444</td>\n",
       "      <td>0.250000</td>\n",
       "      <td>0.592179</td>\n",
       "      <td>0.108489</td>\n",
       "      <td>0.495037</td>\n",
       "    </tr>\n",
       "    <tr>\n",
       "      <th>19651</th>\n",
       "      <td>0.429097</td>\n",
       "      <td>0.311850</td>\n",
       "      <td>0.466667</td>\n",
       "      <td>0.346154</td>\n",
       "      <td>0.714153</td>\n",
       "      <td>0.129372</td>\n",
       "      <td>0.566998</td>\n",
       "    </tr>\n",
       "  </tbody>\n",
       "</table>\n",
       "</div>"
      ],
      "text/plain": [
       "          price     carat     depth     table         x         y         z\n",
       "29477  0.020328  0.024948  0.508333  0.250000  0.409683  0.075382  0.336228\n",
       "52542  0.119263  0.108108  0.519444  0.230769  0.536313  0.098642  0.442928\n",
       "8725   0.014056  0.037422  0.527778  0.230769  0.434823  0.080136  0.361042\n",
       "15577  0.320214  0.166320  0.544444  0.250000  0.592179  0.108489  0.495037\n",
       "19651  0.429097  0.311850  0.466667  0.346154  0.714153  0.129372  0.566998"
      ]
     },
     "execution_count": 160,
     "metadata": {},
     "output_type": "execute_result"
    }
   ],
   "source": [
    "df_train[cont].head()"
   ]
  },
  {
   "cell_type": "code",
   "execution_count": 161,
   "metadata": {},
   "outputs": [
    {
     "data": {
      "text/html": [
       "<div>\n",
       "<style scoped>\n",
       "    .dataframe tbody tr th:only-of-type {\n",
       "        vertical-align: middle;\n",
       "    }\n",
       "\n",
       "    .dataframe tbody tr th {\n",
       "        vertical-align: top;\n",
       "    }\n",
       "\n",
       "    .dataframe thead th {\n",
       "        text-align: right;\n",
       "    }\n",
       "</style>\n",
       "<table border=\"1\" class=\"dataframe\">\n",
       "  <thead>\n",
       "    <tr style=\"text-align: right;\">\n",
       "      <th></th>\n",
       "      <th>count</th>\n",
       "      <th>mean</th>\n",
       "      <th>std</th>\n",
       "      <th>min</th>\n",
       "      <th>25%</th>\n",
       "      <th>50%</th>\n",
       "      <th>75%</th>\n",
       "      <th>max</th>\n",
       "    </tr>\n",
       "  </thead>\n",
       "  <tbody>\n",
       "    <tr>\n",
       "      <th>price</th>\n",
       "      <td>37758.0</td>\n",
       "      <td>0.195826</td>\n",
       "      <td>0.216556</td>\n",
       "      <td>0.0</td>\n",
       "      <td>0.033627</td>\n",
       "      <td>0.112613</td>\n",
       "      <td>0.273450</td>\n",
       "      <td>1.0</td>\n",
       "    </tr>\n",
       "    <tr>\n",
       "      <th>carat</th>\n",
       "      <td>37758.0</td>\n",
       "      <td>0.124531</td>\n",
       "      <td>0.098815</td>\n",
       "      <td>0.0</td>\n",
       "      <td>0.041580</td>\n",
       "      <td>0.103950</td>\n",
       "      <td>0.174636</td>\n",
       "      <td>1.0</td>\n",
       "    </tr>\n",
       "    <tr>\n",
       "      <th>depth</th>\n",
       "      <td>37758.0</td>\n",
       "      <td>0.520975</td>\n",
       "      <td>0.039930</td>\n",
       "      <td>0.0</td>\n",
       "      <td>0.500000</td>\n",
       "      <td>0.522222</td>\n",
       "      <td>0.541667</td>\n",
       "      <td>1.0</td>\n",
       "    </tr>\n",
       "    <tr>\n",
       "      <th>table</th>\n",
       "      <td>37758.0</td>\n",
       "      <td>0.277841</td>\n",
       "      <td>0.042971</td>\n",
       "      <td>0.0</td>\n",
       "      <td>0.250000</td>\n",
       "      <td>0.269231</td>\n",
       "      <td>0.307692</td>\n",
       "      <td>1.0</td>\n",
       "    </tr>\n",
       "    <tr>\n",
       "      <th>x</th>\n",
       "      <td>37758.0</td>\n",
       "      <td>0.533830</td>\n",
       "      <td>0.104589</td>\n",
       "      <td>0.0</td>\n",
       "      <td>0.438547</td>\n",
       "      <td>0.530726</td>\n",
       "      <td>0.608939</td>\n",
       "      <td>1.0</td>\n",
       "    </tr>\n",
       "    <tr>\n",
       "      <th>y</th>\n",
       "      <td>37758.0</td>\n",
       "      <td>0.097406</td>\n",
       "      <td>0.019621</td>\n",
       "      <td>0.0</td>\n",
       "      <td>0.080136</td>\n",
       "      <td>0.096944</td>\n",
       "      <td>0.111036</td>\n",
       "      <td>1.0</td>\n",
       "    </tr>\n",
       "    <tr>\n",
       "      <th>z</th>\n",
       "      <td>37758.0</td>\n",
       "      <td>0.439199</td>\n",
       "      <td>0.086407</td>\n",
       "      <td>0.0</td>\n",
       "      <td>0.361042</td>\n",
       "      <td>0.436725</td>\n",
       "      <td>0.501241</td>\n",
       "      <td>1.0</td>\n",
       "    </tr>\n",
       "  </tbody>\n",
       "</table>\n",
       "</div>"
      ],
      "text/plain": [
       "         count      mean       std  min       25%       50%       75%  max\n",
       "price  37758.0  0.195826  0.216556  0.0  0.033627  0.112613  0.273450  1.0\n",
       "carat  37758.0  0.124531  0.098815  0.0  0.041580  0.103950  0.174636  1.0\n",
       "depth  37758.0  0.520975  0.039930  0.0  0.500000  0.522222  0.541667  1.0\n",
       "table  37758.0  0.277841  0.042971  0.0  0.250000  0.269231  0.307692  1.0\n",
       "x      37758.0  0.533830  0.104589  0.0  0.438547  0.530726  0.608939  1.0\n",
       "y      37758.0  0.097406  0.019621  0.0  0.080136  0.096944  0.111036  1.0\n",
       "z      37758.0  0.439199  0.086407  0.0  0.361042  0.436725  0.501241  1.0"
      ]
     },
     "execution_count": 161,
     "metadata": {},
     "output_type": "execute_result"
    }
   ],
   "source": [
    "df_train[cont].describe().T"
   ]
  },
  {
   "cell_type": "code",
   "execution_count": 162,
   "metadata": {},
   "outputs": [],
   "source": [
    "y_train = df_train[\"price\"]"
   ]
  },
  {
   "cell_type": "code",
   "execution_count": 163,
   "metadata": {},
   "outputs": [],
   "source": [
    "x_train = df_train.loc[: , df_train.columns != \"price\"]"
   ]
  },
  {
   "cell_type": "code",
   "execution_count": 164,
   "metadata": {},
   "outputs": [
    {
     "data": {
      "text/plain": [
       "29477    0.020328\n",
       "52542    0.119263\n",
       "8725     0.014056\n",
       "15577    0.320214\n",
       "19651    0.429097\n",
       "Name: price, dtype: float64"
      ]
     },
     "execution_count": 164,
     "metadata": {},
     "output_type": "execute_result"
    }
   ],
   "source": [
    "y_train.head()"
   ]
  },
  {
   "cell_type": "code",
   "execution_count": 165,
   "metadata": {},
   "outputs": [
    {
     "data": {
      "text/html": [
       "<div>\n",
       "<style scoped>\n",
       "    .dataframe tbody tr th:only-of-type {\n",
       "        vertical-align: middle;\n",
       "    }\n",
       "\n",
       "    .dataframe tbody tr th {\n",
       "        vertical-align: top;\n",
       "    }\n",
       "\n",
       "    .dataframe thead th {\n",
       "        text-align: right;\n",
       "    }\n",
       "</style>\n",
       "<table border=\"1\" class=\"dataframe\">\n",
       "  <thead>\n",
       "    <tr style=\"text-align: right;\">\n",
       "      <th></th>\n",
       "      <th>carat</th>\n",
       "      <th>depth</th>\n",
       "      <th>table</th>\n",
       "      <th>x</th>\n",
       "      <th>y</th>\n",
       "      <th>z</th>\n",
       "      <th>Good</th>\n",
       "      <th>Ideal</th>\n",
       "      <th>Premium</th>\n",
       "      <th>Very Good</th>\n",
       "      <th>...</th>\n",
       "      <th>VS1</th>\n",
       "      <th>VS2</th>\n",
       "      <th>VVS1</th>\n",
       "      <th>VVS2</th>\n",
       "      <th>E</th>\n",
       "      <th>F</th>\n",
       "      <th>G</th>\n",
       "      <th>H</th>\n",
       "      <th>I</th>\n",
       "      <th>J</th>\n",
       "    </tr>\n",
       "  </thead>\n",
       "  <tbody>\n",
       "    <tr>\n",
       "      <th>29477</th>\n",
       "      <td>0.024948</td>\n",
       "      <td>0.508333</td>\n",
       "      <td>0.250000</td>\n",
       "      <td>0.409683</td>\n",
       "      <td>0.075382</td>\n",
       "      <td>0.336228</td>\n",
       "      <td>0</td>\n",
       "      <td>1</td>\n",
       "      <td>0</td>\n",
       "      <td>0</td>\n",
       "      <td>...</td>\n",
       "      <td>1</td>\n",
       "      <td>0</td>\n",
       "      <td>0</td>\n",
       "      <td>0</td>\n",
       "      <td>0</td>\n",
       "      <td>1</td>\n",
       "      <td>0</td>\n",
       "      <td>0</td>\n",
       "      <td>0</td>\n",
       "      <td>0</td>\n",
       "    </tr>\n",
       "    <tr>\n",
       "      <th>52542</th>\n",
       "      <td>0.108108</td>\n",
       "      <td>0.519444</td>\n",
       "      <td>0.230769</td>\n",
       "      <td>0.536313</td>\n",
       "      <td>0.098642</td>\n",
       "      <td>0.442928</td>\n",
       "      <td>0</td>\n",
       "      <td>0</td>\n",
       "      <td>0</td>\n",
       "      <td>1</td>\n",
       "      <td>...</td>\n",
       "      <td>0</td>\n",
       "      <td>0</td>\n",
       "      <td>0</td>\n",
       "      <td>1</td>\n",
       "      <td>0</td>\n",
       "      <td>0</td>\n",
       "      <td>0</td>\n",
       "      <td>0</td>\n",
       "      <td>1</td>\n",
       "      <td>0</td>\n",
       "    </tr>\n",
       "    <tr>\n",
       "      <th>8725</th>\n",
       "      <td>0.037422</td>\n",
       "      <td>0.527778</td>\n",
       "      <td>0.230769</td>\n",
       "      <td>0.434823</td>\n",
       "      <td>0.080136</td>\n",
       "      <td>0.361042</td>\n",
       "      <td>0</td>\n",
       "      <td>0</td>\n",
       "      <td>0</td>\n",
       "      <td>1</td>\n",
       "      <td>...</td>\n",
       "      <td>0</td>\n",
       "      <td>0</td>\n",
       "      <td>0</td>\n",
       "      <td>0</td>\n",
       "      <td>0</td>\n",
       "      <td>0</td>\n",
       "      <td>0</td>\n",
       "      <td>0</td>\n",
       "      <td>0</td>\n",
       "      <td>0</td>\n",
       "    </tr>\n",
       "    <tr>\n",
       "      <th>15577</th>\n",
       "      <td>0.166320</td>\n",
       "      <td>0.544444</td>\n",
       "      <td>0.250000</td>\n",
       "      <td>0.592179</td>\n",
       "      <td>0.108489</td>\n",
       "      <td>0.495037</td>\n",
       "      <td>0</td>\n",
       "      <td>0</td>\n",
       "      <td>0</td>\n",
       "      <td>1</td>\n",
       "      <td>...</td>\n",
       "      <td>0</td>\n",
       "      <td>0</td>\n",
       "      <td>0</td>\n",
       "      <td>1</td>\n",
       "      <td>0</td>\n",
       "      <td>0</td>\n",
       "      <td>0</td>\n",
       "      <td>1</td>\n",
       "      <td>0</td>\n",
       "      <td>0</td>\n",
       "    </tr>\n",
       "    <tr>\n",
       "      <th>19651</th>\n",
       "      <td>0.311850</td>\n",
       "      <td>0.466667</td>\n",
       "      <td>0.346154</td>\n",
       "      <td>0.714153</td>\n",
       "      <td>0.129372</td>\n",
       "      <td>0.566998</td>\n",
       "      <td>0</td>\n",
       "      <td>0</td>\n",
       "      <td>1</td>\n",
       "      <td>0</td>\n",
       "      <td>...</td>\n",
       "      <td>0</td>\n",
       "      <td>0</td>\n",
       "      <td>0</td>\n",
       "      <td>0</td>\n",
       "      <td>0</td>\n",
       "      <td>0</td>\n",
       "      <td>0</td>\n",
       "      <td>1</td>\n",
       "      <td>0</td>\n",
       "      <td>0</td>\n",
       "    </tr>\n",
       "  </tbody>\n",
       "</table>\n",
       "<p>5 rows × 23 columns</p>\n",
       "</div>"
      ],
      "text/plain": [
       "          carat     depth     table         x         y         z  Good  \\\n",
       "29477  0.024948  0.508333  0.250000  0.409683  0.075382  0.336228     0   \n",
       "52542  0.108108  0.519444  0.230769  0.536313  0.098642  0.442928     0   \n",
       "8725   0.037422  0.527778  0.230769  0.434823  0.080136  0.361042     0   \n",
       "15577  0.166320  0.544444  0.250000  0.592179  0.108489  0.495037     0   \n",
       "19651  0.311850  0.466667  0.346154  0.714153  0.129372  0.566998     0   \n",
       "\n",
       "       Ideal  Premium  Very Good  ...  VS1  VS2  VVS1  VVS2  E  F  G  H  I  J  \n",
       "29477      1        0          0  ...    1    0     0     0  0  1  0  0  0  0  \n",
       "52542      0        0          1  ...    0    0     0     1  0  0  0  0  1  0  \n",
       "8725       0        0          1  ...    0    0     0     0  0  0  0  0  0  0  \n",
       "15577      0        0          1  ...    0    0     0     1  0  0  0  1  0  0  \n",
       "19651      0        1          0  ...    0    0     0     0  0  0  0  1  0  0  \n",
       "\n",
       "[5 rows x 23 columns]"
      ]
     },
     "execution_count": 165,
     "metadata": {},
     "output_type": "execute_result"
    }
   ],
   "source": [
    "x_train.head()"
   ]
  },
  {
   "cell_type": "markdown",
   "metadata": {},
   "source": [
    "# Building our model\n",
    "- Linear Regression (Price is of continous datatype so we should use \"Supervised linear regression model\")"
   ]
  },
  {
   "cell_type": "markdown",
   "metadata": {},
   "source": [
    "As the number of independent variables are 23 that is high. Initially we shall use Recursive Feature Elimination.We use RFE as it is easy to configure and use and to predict the target variable in a training dataset and select the features (columns) that are more or most relevant."
   ]
  },
  {
   "cell_type": "code",
   "execution_count": 166,
   "metadata": {},
   "outputs": [],
   "source": [
    "from sklearn.feature_selection import RFE\n",
    "from sklearn.linear_model import LinearRegression"
   ]
  },
  {
   "cell_type": "code",
   "execution_count": 167,
   "metadata": {},
   "outputs": [
    {
     "data": {
      "text/plain": [
       "RFE(estimator=LinearRegression(), n_features_to_select=13)"
      ]
     },
     "execution_count": 167,
     "metadata": {},
     "output_type": "execute_result"
    }
   ],
   "source": [
    "lm = LinearRegression()\n",
    "lm.fit(x_train , y_train)\n",
    "\n",
    "rfe = RFE(lm,13)\n",
    "rfe.fit(x_train , y_train)"
   ]
  },
  {
   "cell_type": "code",
   "execution_count": 168,
   "metadata": {},
   "outputs": [
    {
     "data": {
      "text/plain": [
       "[('carat', True, 1),\n",
       " ('depth', True, 1),\n",
       " ('table', True, 1),\n",
       " ('x', True, 1),\n",
       " ('y', False, 2),\n",
       " ('z', False, 3),\n",
       " ('Good', False, 8),\n",
       " ('Ideal', False, 5),\n",
       " ('Premium', False, 6),\n",
       " ('Very Good', False, 7),\n",
       " ('IF', True, 1),\n",
       " ('SI1', True, 1),\n",
       " ('SI2', True, 1),\n",
       " ('VS1', True, 1),\n",
       " ('VS2', True, 1),\n",
       " ('VVS1', True, 1),\n",
       " ('VVS2', True, 1),\n",
       " ('E', False, 11),\n",
       " ('F', False, 10),\n",
       " ('G', False, 9),\n",
       " ('H', False, 4),\n",
       " ('I', True, 1),\n",
       " ('J', True, 1)]"
      ]
     },
     "execution_count": 168,
     "metadata": {},
     "output_type": "execute_result"
    }
   ],
   "source": [
    "list(zip(x_train.columns , rfe.support_ , rfe.ranking_))"
   ]
  },
  {
   "cell_type": "code",
   "execution_count": 169,
   "metadata": {},
   "outputs": [],
   "source": [
    "col = x_train.columns[rfe.support_]"
   ]
  },
  {
   "cell_type": "code",
   "execution_count": 170,
   "metadata": {},
   "outputs": [
    {
     "data": {
      "text/plain": [
       "Index(['carat', 'depth', 'table', 'x', 'IF', 'SI1', 'SI2', 'VS1', 'VS2',\n",
       "       'VVS1', 'VVS2', 'I', 'J'],\n",
       "      dtype='object')"
      ]
     },
     "execution_count": 170,
     "metadata": {},
     "output_type": "execute_result"
    }
   ],
   "source": [
    "col"
   ]
  },
  {
   "cell_type": "code",
   "execution_count": 171,
   "metadata": {},
   "outputs": [
    {
     "data": {
      "text/plain": [
       "Index(['y', 'z', 'Good', 'Ideal', 'Premium', 'Very Good', 'E', 'F', 'G', 'H'], dtype='object')"
      ]
     },
     "execution_count": 171,
     "metadata": {},
     "output_type": "execute_result"
    }
   ],
   "source": [
    "x_train.columns[~rfe.support_]"
   ]
  },
  {
   "cell_type": "markdown",
   "metadata": {},
   "source": [
    "### With RFE, we reduced the number of columns for more important features from 23 to 13. (feature selection)"
   ]
  },
  {
   "cell_type": "code",
   "execution_count": 172,
   "metadata": {},
   "outputs": [
    {
     "data": {
      "text/plain": [
       "13"
      ]
     },
     "execution_count": 172,
     "metadata": {},
     "output_type": "execute_result"
    }
   ],
   "source": [
    "col.size"
   ]
  },
  {
   "cell_type": "code",
   "execution_count": 173,
   "metadata": {},
   "outputs": [],
   "source": [
    "x_train_rfe = x_train[col]"
   ]
  },
  {
   "cell_type": "code",
   "execution_count": 174,
   "metadata": {},
   "outputs": [
    {
     "data": {
      "text/html": [
       "<div>\n",
       "<style scoped>\n",
       "    .dataframe tbody tr th:only-of-type {\n",
       "        vertical-align: middle;\n",
       "    }\n",
       "\n",
       "    .dataframe tbody tr th {\n",
       "        vertical-align: top;\n",
       "    }\n",
       "\n",
       "    .dataframe thead th {\n",
       "        text-align: right;\n",
       "    }\n",
       "</style>\n",
       "<table border=\"1\" class=\"dataframe\">\n",
       "  <thead>\n",
       "    <tr style=\"text-align: right;\">\n",
       "      <th></th>\n",
       "      <th>carat</th>\n",
       "      <th>depth</th>\n",
       "      <th>table</th>\n",
       "      <th>x</th>\n",
       "      <th>IF</th>\n",
       "      <th>SI1</th>\n",
       "      <th>SI2</th>\n",
       "      <th>VS1</th>\n",
       "      <th>VS2</th>\n",
       "      <th>VVS1</th>\n",
       "      <th>VVS2</th>\n",
       "      <th>I</th>\n",
       "      <th>J</th>\n",
       "    </tr>\n",
       "  </thead>\n",
       "  <tbody>\n",
       "    <tr>\n",
       "      <th>29477</th>\n",
       "      <td>0.024948</td>\n",
       "      <td>0.508333</td>\n",
       "      <td>0.250000</td>\n",
       "      <td>0.409683</td>\n",
       "      <td>0</td>\n",
       "      <td>0</td>\n",
       "      <td>0</td>\n",
       "      <td>1</td>\n",
       "      <td>0</td>\n",
       "      <td>0</td>\n",
       "      <td>0</td>\n",
       "      <td>0</td>\n",
       "      <td>0</td>\n",
       "    </tr>\n",
       "    <tr>\n",
       "      <th>52542</th>\n",
       "      <td>0.108108</td>\n",
       "      <td>0.519444</td>\n",
       "      <td>0.230769</td>\n",
       "      <td>0.536313</td>\n",
       "      <td>0</td>\n",
       "      <td>0</td>\n",
       "      <td>0</td>\n",
       "      <td>0</td>\n",
       "      <td>0</td>\n",
       "      <td>0</td>\n",
       "      <td>1</td>\n",
       "      <td>1</td>\n",
       "      <td>0</td>\n",
       "    </tr>\n",
       "    <tr>\n",
       "      <th>8725</th>\n",
       "      <td>0.037422</td>\n",
       "      <td>0.527778</td>\n",
       "      <td>0.230769</td>\n",
       "      <td>0.434823</td>\n",
       "      <td>0</td>\n",
       "      <td>1</td>\n",
       "      <td>0</td>\n",
       "      <td>0</td>\n",
       "      <td>0</td>\n",
       "      <td>0</td>\n",
       "      <td>0</td>\n",
       "      <td>0</td>\n",
       "      <td>0</td>\n",
       "    </tr>\n",
       "    <tr>\n",
       "      <th>15577</th>\n",
       "      <td>0.166320</td>\n",
       "      <td>0.544444</td>\n",
       "      <td>0.250000</td>\n",
       "      <td>0.592179</td>\n",
       "      <td>0</td>\n",
       "      <td>0</td>\n",
       "      <td>0</td>\n",
       "      <td>0</td>\n",
       "      <td>0</td>\n",
       "      <td>0</td>\n",
       "      <td>1</td>\n",
       "      <td>0</td>\n",
       "      <td>0</td>\n",
       "    </tr>\n",
       "    <tr>\n",
       "      <th>19651</th>\n",
       "      <td>0.311850</td>\n",
       "      <td>0.466667</td>\n",
       "      <td>0.346154</td>\n",
       "      <td>0.714153</td>\n",
       "      <td>0</td>\n",
       "      <td>0</td>\n",
       "      <td>1</td>\n",
       "      <td>0</td>\n",
       "      <td>0</td>\n",
       "      <td>0</td>\n",
       "      <td>0</td>\n",
       "      <td>0</td>\n",
       "      <td>0</td>\n",
       "    </tr>\n",
       "  </tbody>\n",
       "</table>\n",
       "</div>"
      ],
      "text/plain": [
       "          carat     depth     table         x  IF  SI1  SI2  VS1  VS2  VVS1  \\\n",
       "29477  0.024948  0.508333  0.250000  0.409683   0    0    0    1    0     0   \n",
       "52542  0.108108  0.519444  0.230769  0.536313   0    0    0    0    0     0   \n",
       "8725   0.037422  0.527778  0.230769  0.434823   0    1    0    0    0     0   \n",
       "15577  0.166320  0.544444  0.250000  0.592179   0    0    0    0    0     0   \n",
       "19651  0.311850  0.466667  0.346154  0.714153   0    0    1    0    0     0   \n",
       "\n",
       "       VVS2  I  J  \n",
       "29477     0  0  0  \n",
       "52542     1  1  0  \n",
       "8725      0  0  0  \n",
       "15577     1  0  0  \n",
       "19651     0  0  0  "
      ]
     },
     "execution_count": 174,
     "metadata": {},
     "output_type": "execute_result"
    }
   ],
   "source": [
    "x_train_rfe.head()"
   ]
  },
  {
   "cell_type": "markdown",
   "metadata": {},
   "source": [
    "- #### statsmodels is a Python module that provides classes and functions for the estimation of many different statistical models, as well as for conducting statistical tests, and statistical data exploration."
   ]
  },
  {
   "cell_type": "code",
   "execution_count": 175,
   "metadata": {},
   "outputs": [],
   "source": [
    "import statsmodels.api as sm\n",
    "x_train_rfe = sm.add_constant(x_train_rfe) #adding the fixed value"
   ]
  },
  {
   "cell_type": "code",
   "execution_count": 176,
   "metadata": {},
   "outputs": [
    {
     "data": {
      "text/html": [
       "<div>\n",
       "<style scoped>\n",
       "    .dataframe tbody tr th:only-of-type {\n",
       "        vertical-align: middle;\n",
       "    }\n",
       "\n",
       "    .dataframe tbody tr th {\n",
       "        vertical-align: top;\n",
       "    }\n",
       "\n",
       "    .dataframe thead th {\n",
       "        text-align: right;\n",
       "    }\n",
       "</style>\n",
       "<table border=\"1\" class=\"dataframe\">\n",
       "  <thead>\n",
       "    <tr style=\"text-align: right;\">\n",
       "      <th></th>\n",
       "      <th>const</th>\n",
       "      <th>carat</th>\n",
       "      <th>depth</th>\n",
       "      <th>table</th>\n",
       "      <th>x</th>\n",
       "      <th>IF</th>\n",
       "      <th>SI1</th>\n",
       "      <th>SI2</th>\n",
       "      <th>VS1</th>\n",
       "      <th>VS2</th>\n",
       "      <th>VVS1</th>\n",
       "      <th>VVS2</th>\n",
       "      <th>I</th>\n",
       "      <th>J</th>\n",
       "    </tr>\n",
       "  </thead>\n",
       "  <tbody>\n",
       "    <tr>\n",
       "      <th>29477</th>\n",
       "      <td>1.0</td>\n",
       "      <td>0.024948</td>\n",
       "      <td>0.508333</td>\n",
       "      <td>0.250000</td>\n",
       "      <td>0.409683</td>\n",
       "      <td>0</td>\n",
       "      <td>0</td>\n",
       "      <td>0</td>\n",
       "      <td>1</td>\n",
       "      <td>0</td>\n",
       "      <td>0</td>\n",
       "      <td>0</td>\n",
       "      <td>0</td>\n",
       "      <td>0</td>\n",
       "    </tr>\n",
       "    <tr>\n",
       "      <th>52542</th>\n",
       "      <td>1.0</td>\n",
       "      <td>0.108108</td>\n",
       "      <td>0.519444</td>\n",
       "      <td>0.230769</td>\n",
       "      <td>0.536313</td>\n",
       "      <td>0</td>\n",
       "      <td>0</td>\n",
       "      <td>0</td>\n",
       "      <td>0</td>\n",
       "      <td>0</td>\n",
       "      <td>0</td>\n",
       "      <td>1</td>\n",
       "      <td>1</td>\n",
       "      <td>0</td>\n",
       "    </tr>\n",
       "    <tr>\n",
       "      <th>8725</th>\n",
       "      <td>1.0</td>\n",
       "      <td>0.037422</td>\n",
       "      <td>0.527778</td>\n",
       "      <td>0.230769</td>\n",
       "      <td>0.434823</td>\n",
       "      <td>0</td>\n",
       "      <td>1</td>\n",
       "      <td>0</td>\n",
       "      <td>0</td>\n",
       "      <td>0</td>\n",
       "      <td>0</td>\n",
       "      <td>0</td>\n",
       "      <td>0</td>\n",
       "      <td>0</td>\n",
       "    </tr>\n",
       "    <tr>\n",
       "      <th>15577</th>\n",
       "      <td>1.0</td>\n",
       "      <td>0.166320</td>\n",
       "      <td>0.544444</td>\n",
       "      <td>0.250000</td>\n",
       "      <td>0.592179</td>\n",
       "      <td>0</td>\n",
       "      <td>0</td>\n",
       "      <td>0</td>\n",
       "      <td>0</td>\n",
       "      <td>0</td>\n",
       "      <td>0</td>\n",
       "      <td>1</td>\n",
       "      <td>0</td>\n",
       "      <td>0</td>\n",
       "    </tr>\n",
       "    <tr>\n",
       "      <th>19651</th>\n",
       "      <td>1.0</td>\n",
       "      <td>0.311850</td>\n",
       "      <td>0.466667</td>\n",
       "      <td>0.346154</td>\n",
       "      <td>0.714153</td>\n",
       "      <td>0</td>\n",
       "      <td>0</td>\n",
       "      <td>1</td>\n",
       "      <td>0</td>\n",
       "      <td>0</td>\n",
       "      <td>0</td>\n",
       "      <td>0</td>\n",
       "      <td>0</td>\n",
       "      <td>0</td>\n",
       "    </tr>\n",
       "  </tbody>\n",
       "</table>\n",
       "</div>"
      ],
      "text/plain": [
       "       const     carat     depth     table         x  IF  SI1  SI2  VS1  VS2  \\\n",
       "29477    1.0  0.024948  0.508333  0.250000  0.409683   0    0    0    1    0   \n",
       "52542    1.0  0.108108  0.519444  0.230769  0.536313   0    0    0    0    0   \n",
       "8725     1.0  0.037422  0.527778  0.230769  0.434823   0    1    0    0    0   \n",
       "15577    1.0  0.166320  0.544444  0.250000  0.592179   0    0    0    0    0   \n",
       "19651    1.0  0.311850  0.466667  0.346154  0.714153   0    0    1    0    0   \n",
       "\n",
       "       VVS1  VVS2  I  J  \n",
       "29477     0     0  0  0  \n",
       "52542     0     1  1  0  \n",
       "8725      0     0  0  0  \n",
       "15577     0     1  0  0  \n",
       "19651     0     0  0  0  "
      ]
     },
     "execution_count": 176,
     "metadata": {},
     "output_type": "execute_result"
    }
   ],
   "source": [
    "x_train_rfe.head()"
   ]
  },
  {
   "cell_type": "code",
   "execution_count": 177,
   "metadata": {},
   "outputs": [],
   "source": [
    "lm = sm.OLS(y_train , x_train_rfe).fit() #running the linear model"
   ]
  },
  {
   "cell_type": "code",
   "execution_count": 178,
   "metadata": {},
   "outputs": [
    {
     "data": {
      "text/html": [
       "<table class=\"simpletable\">\n",
       "<caption>OLS Regression Results</caption>\n",
       "<tr>\n",
       "  <th>Dep. Variable:</th>          <td>price</td>      <th>  R-squared:         </th>  <td>   0.914</td> \n",
       "</tr>\n",
       "<tr>\n",
       "  <th>Model:</th>                   <td>OLS</td>       <th>  Adj. R-squared:    </th>  <td>   0.914</td> \n",
       "</tr>\n",
       "<tr>\n",
       "  <th>Method:</th>             <td>Least Squares</td>  <th>  F-statistic:       </th>  <td>3.104e+04</td>\n",
       "</tr>\n",
       "<tr>\n",
       "  <th>Date:</th>             <td>Thu, 24 Feb 2022</td> <th>  Prob (F-statistic):</th>   <td>  0.00</td>  \n",
       "</tr>\n",
       "<tr>\n",
       "  <th>Time:</th>                 <td>21:40:53</td>     <th>  Log-Likelihood:    </th>  <td>  50613.</td> \n",
       "</tr>\n",
       "<tr>\n",
       "  <th>No. Observations:</th>      <td> 37758</td>      <th>  AIC:               </th> <td>-1.012e+05</td>\n",
       "</tr>\n",
       "<tr>\n",
       "  <th>Df Residuals:</th>          <td> 37744</td>      <th>  BIC:               </th> <td>-1.011e+05</td>\n",
       "</tr>\n",
       "<tr>\n",
       "  <th>Df Model:</th>              <td>    13</td>      <th>                     </th>      <td> </td>    \n",
       "</tr>\n",
       "<tr>\n",
       "  <th>Covariance Type:</th>      <td>nonrobust</td>    <th>                     </th>      <td> </td>    \n",
       "</tr>\n",
       "</table>\n",
       "<table class=\"simpletable\">\n",
       "<tr>\n",
       "    <td></td>       <th>coef</th>     <th>std err</th>      <th>t</th>      <th>P>|t|</th>  <th>[0.025</th>    <th>0.975]</th>  \n",
       "</tr>\n",
       "<tr>\n",
       "  <th>const</th> <td>    0.1259</td> <td>    0.010</td> <td>   12.701</td> <td> 0.000</td> <td>    0.106</td> <td>    0.145</td>\n",
       "</tr>\n",
       "<tr>\n",
       "  <th>carat</th> <td>    2.9407</td> <td>    0.016</td> <td>  180.232</td> <td> 0.000</td> <td>    2.909</td> <td>    2.973</td>\n",
       "</tr>\n",
       "<tr>\n",
       "  <th>depth</th> <td>   -0.2350</td> <td>    0.009</td> <td>  -26.281</td> <td> 0.000</td> <td>   -0.252</td> <td>   -0.217</td>\n",
       "</tr>\n",
       "<tr>\n",
       "  <th>table</th> <td>   -0.1522</td> <td>    0.008</td> <td>  -18.614</td> <td> 0.000</td> <td>   -0.168</td> <td>   -0.136</td>\n",
       "</tr>\n",
       "<tr>\n",
       "  <th>x</th>     <td>   -0.6429</td> <td>    0.015</td> <td>  -41.630</td> <td> 0.000</td> <td>   -0.673</td> <td>   -0.613</td>\n",
       "</tr>\n",
       "<tr>\n",
       "  <th>IF</th>    <td>    0.2898</td> <td>    0.003</td> <td>   84.738</td> <td> 0.000</td> <td>    0.283</td> <td>    0.297</td>\n",
       "</tr>\n",
       "<tr>\n",
       "  <th>SI1</th>   <td>    0.2054</td> <td>    0.003</td> <td>   70.290</td> <td> 0.000</td> <td>    0.200</td> <td>    0.211</td>\n",
       "</tr>\n",
       "<tr>\n",
       "  <th>SI2</th>   <td>    0.1542</td> <td>    0.003</td> <td>   52.420</td> <td> 0.000</td> <td>    0.148</td> <td>    0.160</td>\n",
       "</tr>\n",
       "<tr>\n",
       "  <th>VS1</th>   <td>    0.2535</td> <td>    0.003</td> <td>   84.947</td> <td> 0.000</td> <td>    0.248</td> <td>    0.259</td>\n",
       "</tr>\n",
       "<tr>\n",
       "  <th>VS2</th>   <td>    0.2384</td> <td>    0.003</td> <td>   81.134</td> <td> 0.000</td> <td>    0.233</td> <td>    0.244</td>\n",
       "</tr>\n",
       "<tr>\n",
       "  <th>VVS1</th>  <td>    0.2736</td> <td>    0.003</td> <td>   86.769</td> <td> 0.000</td> <td>    0.267</td> <td>    0.280</td>\n",
       "</tr>\n",
       "<tr>\n",
       "  <th>VVS2</th>  <td>    0.2737</td> <td>    0.003</td> <td>   89.253</td> <td> 0.000</td> <td>    0.268</td> <td>    0.280</td>\n",
       "</tr>\n",
       "<tr>\n",
       "  <th>I</th>     <td>   -0.0557</td> <td>    0.001</td> <td>  -50.161</td> <td> 0.000</td> <td>   -0.058</td> <td>   -0.054</td>\n",
       "</tr>\n",
       "<tr>\n",
       "  <th>J</th>     <td>   -0.1048</td> <td>    0.002</td> <td>  -69.774</td> <td> 0.000</td> <td>   -0.108</td> <td>   -0.102</td>\n",
       "</tr>\n",
       "</table>\n",
       "<table class=\"simpletable\">\n",
       "<tr>\n",
       "  <th>Omnibus:</th>       <td>10419.716</td> <th>  Durbin-Watson:     </th>  <td>   2.010</td> \n",
       "</tr>\n",
       "<tr>\n",
       "  <th>Prob(Omnibus):</th>  <td> 0.000</td>   <th>  Jarque-Bera (JB):  </th> <td>403788.271</td>\n",
       "</tr>\n",
       "<tr>\n",
       "  <th>Skew:</th>           <td> 0.626</td>   <th>  Prob(JB):          </th>  <td>    0.00</td> \n",
       "</tr>\n",
       "<tr>\n",
       "  <th>Kurtosis:</th>       <td>18.972</td>   <th>  Cond. No.          </th>  <td>    99.3</td> \n",
       "</tr>\n",
       "</table><br/><br/>Notes:<br/>[1] Standard Errors assume that the covariance matrix of the errors is correctly specified."
      ],
      "text/plain": [
       "<class 'statsmodels.iolib.summary.Summary'>\n",
       "\"\"\"\n",
       "                            OLS Regression Results                            \n",
       "==============================================================================\n",
       "Dep. Variable:                  price   R-squared:                       0.914\n",
       "Model:                            OLS   Adj. R-squared:                  0.914\n",
       "Method:                 Least Squares   F-statistic:                 3.104e+04\n",
       "Date:                Thu, 24 Feb 2022   Prob (F-statistic):               0.00\n",
       "Time:                        21:40:53   Log-Likelihood:                 50613.\n",
       "No. Observations:               37758   AIC:                        -1.012e+05\n",
       "Df Residuals:                   37744   BIC:                        -1.011e+05\n",
       "Df Model:                          13                                         \n",
       "Covariance Type:            nonrobust                                         \n",
       "==============================================================================\n",
       "                 coef    std err          t      P>|t|      [0.025      0.975]\n",
       "------------------------------------------------------------------------------\n",
       "const          0.1259      0.010     12.701      0.000       0.106       0.145\n",
       "carat          2.9407      0.016    180.232      0.000       2.909       2.973\n",
       "depth         -0.2350      0.009    -26.281      0.000      -0.252      -0.217\n",
       "table         -0.1522      0.008    -18.614      0.000      -0.168      -0.136\n",
       "x             -0.6429      0.015    -41.630      0.000      -0.673      -0.613\n",
       "IF             0.2898      0.003     84.738      0.000       0.283       0.297\n",
       "SI1            0.2054      0.003     70.290      0.000       0.200       0.211\n",
       "SI2            0.1542      0.003     52.420      0.000       0.148       0.160\n",
       "VS1            0.2535      0.003     84.947      0.000       0.248       0.259\n",
       "VS2            0.2384      0.003     81.134      0.000       0.233       0.244\n",
       "VVS1           0.2736      0.003     86.769      0.000       0.267       0.280\n",
       "VVS2           0.2737      0.003     89.253      0.000       0.268       0.280\n",
       "I             -0.0557      0.001    -50.161      0.000      -0.058      -0.054\n",
       "J             -0.1048      0.002    -69.774      0.000      -0.108      -0.102\n",
       "==============================================================================\n",
       "Omnibus:                    10419.716   Durbin-Watson:                   2.010\n",
       "Prob(Omnibus):                  0.000   Jarque-Bera (JB):           403788.271\n",
       "Skew:                           0.626   Prob(JB):                         0.00\n",
       "Kurtosis:                      18.972   Cond. No.                         99.3\n",
       "==============================================================================\n",
       "\n",
       "Notes:\n",
       "[1] Standard Errors assume that the covariance matrix of the errors is correctly specified.\n",
       "\"\"\""
      ]
     },
     "execution_count": 178,
     "metadata": {},
     "output_type": "execute_result"
    }
   ],
   "source": [
    "lm.summary() # table of the model"
   ]
  },
  {
   "cell_type": "markdown",
   "metadata": {},
   "source": [
    "- OLS (Ordinary Least Squared): It is a method that tries to approach the slope (line) passing through the middle of the data with the least square difference while establishing a linear regression model.\n",
    "- R-squared : the coefficient of determination. It is the proportion of the variance in the dependent variable that is predictable/explained\n",
    "- Adj. R-squared : Adjusted R-squared is the modified form of R-squared adjusted for the number of independent variables in the model. Value of adj. R-squared increases, when we include extra variables which actually improve the model.\n",
    "- F-statistic : the ratio of mean squared error of the model to the mean squared error of residuals. It determines the overall significance of the model.\n",
    "- coef : the coefficients of the independent variables and the constant term in the equation.\n",
    "- t : the value of t-statistic. It is the ratio of the difference between the estimated and hypothesised value of a parameter, to the standard error\n",
    "- p-value :This value gives us whether the coefficient obtained from the independent variable is statistically significant. The significance value generally accepted in the scientific world is x<0.05.\n"
   ]
  },
  {
   "cell_type": "markdown",
   "metadata": {},
   "source": [
    "## Checking the multicollinearity of variables by Variance Inflation Factor"
   ]
  },
  {
   "cell_type": "markdown",
   "metadata": {},
   "source": [
    "- multicollinearity is the situation where there is a very high correlation between at least two variables that predict a variable.\n",
    " \n",
    " Variance inflation factor (VIF) is a measure of the amount of multicollinearity in a set of multiple regression variables"
   ]
  },
  {
   "cell_type": "code",
   "execution_count": 179,
   "metadata": {},
   "outputs": [],
   "source": [
    "from statsmodels.stats.outliers_influence import variance_inflation_factor"
   ]
  },
  {
   "cell_type": "code",
   "execution_count": 180,
   "metadata": {},
   "outputs": [],
   "source": [
    "def Vif(X):\n",
    "\n",
    "    # Checking the Vif's:\n",
    "    vif = pd.DataFrame()\n",
    "    vif['Features'] = X.columns\n",
    "    vif['VIF'] = [variance_inflation_factor(X.values, i) for i in range(X.shape[1])]\n",
    "    vif['VIF'] = round(vif['VIF'], 2)\n",
    "    vif = vif.sort_values(by = \"VIF\", ascending = False)\n",
    "    print(vif)"
   ]
  },
  {
   "cell_type": "code",
   "execution_count": 181,
   "metadata": {},
   "outputs": [
    {
     "data": {
      "text/html": [
       "<div>\n",
       "<style scoped>\n",
       "    .dataframe tbody tr th:only-of-type {\n",
       "        vertical-align: middle;\n",
       "    }\n",
       "\n",
       "    .dataframe tbody tr th {\n",
       "        vertical-align: top;\n",
       "    }\n",
       "\n",
       "    .dataframe thead th {\n",
       "        text-align: right;\n",
       "    }\n",
       "</style>\n",
       "<table border=\"1\" class=\"dataframe\">\n",
       "  <thead>\n",
       "    <tr style=\"text-align: right;\">\n",
       "      <th></th>\n",
       "      <th>const</th>\n",
       "      <th>carat</th>\n",
       "      <th>depth</th>\n",
       "      <th>table</th>\n",
       "      <th>x</th>\n",
       "      <th>IF</th>\n",
       "      <th>SI1</th>\n",
       "      <th>SI2</th>\n",
       "      <th>VS1</th>\n",
       "      <th>VS2</th>\n",
       "      <th>VVS1</th>\n",
       "      <th>VVS2</th>\n",
       "      <th>I</th>\n",
       "      <th>J</th>\n",
       "    </tr>\n",
       "  </thead>\n",
       "  <tbody>\n",
       "    <tr>\n",
       "      <th>29477</th>\n",
       "      <td>1.0</td>\n",
       "      <td>0.024948</td>\n",
       "      <td>0.508333</td>\n",
       "      <td>0.250000</td>\n",
       "      <td>0.409683</td>\n",
       "      <td>0</td>\n",
       "      <td>0</td>\n",
       "      <td>0</td>\n",
       "      <td>1</td>\n",
       "      <td>0</td>\n",
       "      <td>0</td>\n",
       "      <td>0</td>\n",
       "      <td>0</td>\n",
       "      <td>0</td>\n",
       "    </tr>\n",
       "    <tr>\n",
       "      <th>52542</th>\n",
       "      <td>1.0</td>\n",
       "      <td>0.108108</td>\n",
       "      <td>0.519444</td>\n",
       "      <td>0.230769</td>\n",
       "      <td>0.536313</td>\n",
       "      <td>0</td>\n",
       "      <td>0</td>\n",
       "      <td>0</td>\n",
       "      <td>0</td>\n",
       "      <td>0</td>\n",
       "      <td>0</td>\n",
       "      <td>1</td>\n",
       "      <td>1</td>\n",
       "      <td>0</td>\n",
       "    </tr>\n",
       "    <tr>\n",
       "      <th>8725</th>\n",
       "      <td>1.0</td>\n",
       "      <td>0.037422</td>\n",
       "      <td>0.527778</td>\n",
       "      <td>0.230769</td>\n",
       "      <td>0.434823</td>\n",
       "      <td>0</td>\n",
       "      <td>1</td>\n",
       "      <td>0</td>\n",
       "      <td>0</td>\n",
       "      <td>0</td>\n",
       "      <td>0</td>\n",
       "      <td>0</td>\n",
       "      <td>0</td>\n",
       "      <td>0</td>\n",
       "    </tr>\n",
       "    <tr>\n",
       "      <th>15577</th>\n",
       "      <td>1.0</td>\n",
       "      <td>0.166320</td>\n",
       "      <td>0.544444</td>\n",
       "      <td>0.250000</td>\n",
       "      <td>0.592179</td>\n",
       "      <td>0</td>\n",
       "      <td>0</td>\n",
       "      <td>0</td>\n",
       "      <td>0</td>\n",
       "      <td>0</td>\n",
       "      <td>0</td>\n",
       "      <td>1</td>\n",
       "      <td>0</td>\n",
       "      <td>0</td>\n",
       "    </tr>\n",
       "    <tr>\n",
       "      <th>19651</th>\n",
       "      <td>1.0</td>\n",
       "      <td>0.311850</td>\n",
       "      <td>0.466667</td>\n",
       "      <td>0.346154</td>\n",
       "      <td>0.714153</td>\n",
       "      <td>0</td>\n",
       "      <td>0</td>\n",
       "      <td>1</td>\n",
       "      <td>0</td>\n",
       "      <td>0</td>\n",
       "      <td>0</td>\n",
       "      <td>0</td>\n",
       "      <td>0</td>\n",
       "      <td>0</td>\n",
       "    </tr>\n",
       "    <tr>\n",
       "      <th>...</th>\n",
       "      <td>...</td>\n",
       "      <td>...</td>\n",
       "      <td>...</td>\n",
       "      <td>...</td>\n",
       "      <td>...</td>\n",
       "      <td>...</td>\n",
       "      <td>...</td>\n",
       "      <td>...</td>\n",
       "      <td>...</td>\n",
       "      <td>...</td>\n",
       "      <td>...</td>\n",
       "      <td>...</td>\n",
       "      <td>...</td>\n",
       "      <td>...</td>\n",
       "    </tr>\n",
       "    <tr>\n",
       "      <th>16304</th>\n",
       "      <td>1.0</td>\n",
       "      <td>0.180873</td>\n",
       "      <td>0.552778</td>\n",
       "      <td>0.307692</td>\n",
       "      <td>0.604283</td>\n",
       "      <td>0</td>\n",
       "      <td>0</td>\n",
       "      <td>0</td>\n",
       "      <td>0</td>\n",
       "      <td>1</td>\n",
       "      <td>0</td>\n",
       "      <td>0</td>\n",
       "      <td>0</td>\n",
       "      <td>0</td>\n",
       "    </tr>\n",
       "    <tr>\n",
       "      <th>79</th>\n",
       "      <td>1.0</td>\n",
       "      <td>0.012474</td>\n",
       "      <td>0.544444</td>\n",
       "      <td>0.307692</td>\n",
       "      <td>0.378026</td>\n",
       "      <td>0</td>\n",
       "      <td>0</td>\n",
       "      <td>0</td>\n",
       "      <td>0</td>\n",
       "      <td>0</td>\n",
       "      <td>1</td>\n",
       "      <td>0</td>\n",
       "      <td>0</td>\n",
       "      <td>0</td>\n",
       "    </tr>\n",
       "    <tr>\n",
       "      <th>12119</th>\n",
       "      <td>1.0</td>\n",
       "      <td>0.147609</td>\n",
       "      <td>0.522222</td>\n",
       "      <td>0.288462</td>\n",
       "      <td>0.581006</td>\n",
       "      <td>0</td>\n",
       "      <td>0</td>\n",
       "      <td>0</td>\n",
       "      <td>0</td>\n",
       "      <td>0</td>\n",
       "      <td>0</td>\n",
       "      <td>1</td>\n",
       "      <td>0</td>\n",
       "      <td>0</td>\n",
       "    </tr>\n",
       "    <tr>\n",
       "      <th>14147</th>\n",
       "      <td>1.0</td>\n",
       "      <td>0.218295</td>\n",
       "      <td>0.538889</td>\n",
       "      <td>0.288462</td>\n",
       "      <td>0.641527</td>\n",
       "      <td>0</td>\n",
       "      <td>1</td>\n",
       "      <td>0</td>\n",
       "      <td>0</td>\n",
       "      <td>0</td>\n",
       "      <td>0</td>\n",
       "      <td>0</td>\n",
       "      <td>1</td>\n",
       "      <td>0</td>\n",
       "    </tr>\n",
       "    <tr>\n",
       "      <th>38408</th>\n",
       "      <td>1.0</td>\n",
       "      <td>0.031185</td>\n",
       "      <td>0.530556</td>\n",
       "      <td>0.250000</td>\n",
       "      <td>0.419926</td>\n",
       "      <td>0</td>\n",
       "      <td>0</td>\n",
       "      <td>0</td>\n",
       "      <td>0</td>\n",
       "      <td>0</td>\n",
       "      <td>0</td>\n",
       "      <td>1</td>\n",
       "      <td>0</td>\n",
       "      <td>0</td>\n",
       "    </tr>\n",
       "  </tbody>\n",
       "</table>\n",
       "<p>37758 rows × 14 columns</p>\n",
       "</div>"
      ],
      "text/plain": [
       "       const     carat     depth     table         x  IF  SI1  SI2  VS1  VS2  \\\n",
       "29477    1.0  0.024948  0.508333  0.250000  0.409683   0    0    0    1    0   \n",
       "52542    1.0  0.108108  0.519444  0.230769  0.536313   0    0    0    0    0   \n",
       "8725     1.0  0.037422  0.527778  0.230769  0.434823   0    1    0    0    0   \n",
       "15577    1.0  0.166320  0.544444  0.250000  0.592179   0    0    0    0    0   \n",
       "19651    1.0  0.311850  0.466667  0.346154  0.714153   0    0    1    0    0   \n",
       "...      ...       ...       ...       ...       ...  ..  ...  ...  ...  ...   \n",
       "16304    1.0  0.180873  0.552778  0.307692  0.604283   0    0    0    0    1   \n",
       "79       1.0  0.012474  0.544444  0.307692  0.378026   0    0    0    0    0   \n",
       "12119    1.0  0.147609  0.522222  0.288462  0.581006   0    0    0    0    0   \n",
       "14147    1.0  0.218295  0.538889  0.288462  0.641527   0    1    0    0    0   \n",
       "38408    1.0  0.031185  0.530556  0.250000  0.419926   0    0    0    0    0   \n",
       "\n",
       "       VVS1  VVS2  I  J  \n",
       "29477     0     0  0  0  \n",
       "52542     0     1  1  0  \n",
       "8725      0     0  0  0  \n",
       "15577     0     1  0  0  \n",
       "19651     0     0  0  0  \n",
       "...     ...   ... .. ..  \n",
       "16304     0     0  0  0  \n",
       "79        1     0  0  0  \n",
       "12119     0     1  0  0  \n",
       "14147     0     0  1  0  \n",
       "38408     0     1  0  0  \n",
       "\n",
       "[37758 rows x 14 columns]"
      ]
     },
     "execution_count": 181,
     "metadata": {},
     "output_type": "execute_result"
    }
   ],
   "source": [
    "x_train_rfe"
   ]
  },
  {
   "cell_type": "code",
   "execution_count": 182,
   "metadata": {},
   "outputs": [
    {
     "name": "stdout",
     "output_type": "stream",
     "text": [
      "   Features     VIF\n",
      "3         x  291.02\n",
      "1     depth   98.50\n",
      "2     table   42.11\n",
      "0     carat   30.13\n",
      "5       SI1   17.69\n",
      "8       VS2   16.45\n",
      "6       SI2   12.58\n",
      "7       VS1   11.40\n",
      "10     VVS2    7.43\n",
      "9      VVS1    5.61\n",
      "4        IF    3.18\n",
      "11        I    1.16\n",
      "12        J    1.12\n"
     ]
    }
   ],
   "source": [
    "X_vif1=x_train_rfe.drop([\"const\"],axis=1)\n",
    "Vif(X_vif1)"
   ]
  },
  {
   "cell_type": "markdown",
   "metadata": {},
   "source": [
    "#### Vif for \"x\" variable is high. It means effected by mutlicollinearity. So, we shall drop \"x\" variable."
   ]
  },
  {
   "cell_type": "code",
   "execution_count": 183,
   "metadata": {},
   "outputs": [],
   "source": [
    "x_train_new1=x_train_rfe.drop([\"x\"],axis=1)"
   ]
  },
  {
   "cell_type": "code",
   "execution_count": 184,
   "metadata": {},
   "outputs": [
    {
     "data": {
      "text/plain": [
       "Index(['const', 'carat', 'depth', 'table', 'IF', 'SI1', 'SI2', 'VS1', 'VS2',\n",
       "       'VVS1', 'VVS2', 'I', 'J'],\n",
       "      dtype='object')"
      ]
     },
     "execution_count": 184,
     "metadata": {},
     "output_type": "execute_result"
    }
   ],
   "source": [
    "x_train_new1.columns"
   ]
  },
  {
   "cell_type": "code",
   "execution_count": 185,
   "metadata": {},
   "outputs": [
    {
     "data": {
      "text/html": [
       "<table class=\"simpletable\">\n",
       "<caption>OLS Regression Results</caption>\n",
       "<tr>\n",
       "  <th>Dep. Variable:</th>          <td>price</td>      <th>  R-squared:         </th>  <td>   0.911</td> \n",
       "</tr>\n",
       "<tr>\n",
       "  <th>Model:</th>                   <td>OLS</td>       <th>  Adj. R-squared:    </th>  <td>   0.911</td> \n",
       "</tr>\n",
       "<tr>\n",
       "  <th>Method:</th>             <td>Least Squares</td>  <th>  F-statistic:       </th>  <td>3.202e+04</td>\n",
       "</tr>\n",
       "<tr>\n",
       "  <th>Date:</th>             <td>Thu, 24 Feb 2022</td> <th>  Prob (F-statistic):</th>   <td>  0.00</td>  \n",
       "</tr>\n",
       "<tr>\n",
       "  <th>Time:</th>                 <td>21:41:03</td>     <th>  Log-Likelihood:    </th>  <td>  49765.</td> \n",
       "</tr>\n",
       "<tr>\n",
       "  <th>No. Observations:</th>      <td> 37758</td>      <th>  AIC:               </th> <td>-9.950e+04</td>\n",
       "</tr>\n",
       "<tr>\n",
       "  <th>Df Residuals:</th>          <td> 37745</td>      <th>  BIC:               </th> <td>-9.939e+04</td>\n",
       "</tr>\n",
       "<tr>\n",
       "  <th>Df Model:</th>              <td>    12</td>      <th>                     </th>      <td> </td>    \n",
       "</tr>\n",
       "<tr>\n",
       "  <th>Covariance Type:</th>      <td>nonrobust</td>    <th>                     </th>      <td> </td>    \n",
       "</tr>\n",
       "</table>\n",
       "<table class=\"simpletable\">\n",
       "<tr>\n",
       "    <td></td>       <th>coef</th>     <th>std err</th>      <th>t</th>      <th>P>|t|</th>  <th>[0.025</th>    <th>0.975]</th>  \n",
       "</tr>\n",
       "<tr>\n",
       "  <th>const</th> <td>   -0.1834</td> <td>    0.007</td> <td>  -27.328</td> <td> 0.000</td> <td>   -0.197</td> <td>   -0.170</td>\n",
       "</tr>\n",
       "<tr>\n",
       "  <th>carat</th> <td>    2.2792</td> <td>    0.004</td> <td>  601.615</td> <td> 0.000</td> <td>    2.272</td> <td>    2.287</td>\n",
       "</tr>\n",
       "<tr>\n",
       "  <th>depth</th> <td>   -0.1411</td> <td>    0.009</td> <td>  -15.947</td> <td> 0.000</td> <td>   -0.158</td> <td>   -0.124</td>\n",
       "</tr>\n",
       "<tr>\n",
       "  <th>table</th> <td>   -0.1484</td> <td>    0.008</td> <td>  -17.756</td> <td> 0.000</td> <td>   -0.165</td> <td>   -0.132</td>\n",
       "</tr>\n",
       "<tr>\n",
       "  <th>IF</th>    <td>    0.2943</td> <td>    0.003</td> <td>   84.169</td> <td> 0.000</td> <td>    0.287</td> <td>    0.301</td>\n",
       "</tr>\n",
       "<tr>\n",
       "  <th>SI1</th>   <td>    0.2011</td> <td>    0.003</td> <td>   67.337</td> <td> 0.000</td> <td>    0.195</td> <td>    0.207</td>\n",
       "</tr>\n",
       "<tr>\n",
       "  <th>SI2</th>   <td>    0.1505</td> <td>    0.003</td> <td>   50.061</td> <td> 0.000</td> <td>    0.145</td> <td>    0.156</td>\n",
       "</tr>\n",
       "<tr>\n",
       "  <th>VS1</th>   <td>    0.2514</td> <td>    0.003</td> <td>   82.392</td> <td> 0.000</td> <td>    0.245</td> <td>    0.257</td>\n",
       "</tr>\n",
       "<tr>\n",
       "  <th>VS2</th>   <td>    0.2363</td> <td>    0.003</td> <td>   78.630</td> <td> 0.000</td> <td>    0.230</td> <td>    0.242</td>\n",
       "</tr>\n",
       "<tr>\n",
       "  <th>VVS1</th>  <td>    0.2778</td> <td>    0.003</td> <td>   86.185</td> <td> 0.000</td> <td>    0.272</td> <td>    0.284</td>\n",
       "</tr>\n",
       "<tr>\n",
       "  <th>VVS2</th>  <td>    0.2753</td> <td>    0.003</td> <td>   87.772</td> <td> 0.000</td> <td>    0.269</td> <td>    0.281</td>\n",
       "</tr>\n",
       "<tr>\n",
       "  <th>I</th>     <td>   -0.0533</td> <td>    0.001</td> <td>  -46.965</td> <td> 0.000</td> <td>   -0.055</td> <td>   -0.051</td>\n",
       "</tr>\n",
       "<tr>\n",
       "  <th>J</th>     <td>   -0.1010</td> <td>    0.002</td> <td>  -65.901</td> <td> 0.000</td> <td>   -0.104</td> <td>   -0.098</td>\n",
       "</tr>\n",
       "</table>\n",
       "<table class=\"simpletable\">\n",
       "<tr>\n",
       "  <th>Omnibus:</th>       <td>10794.680</td> <th>  Durbin-Watson:     </th>  <td>   2.009</td> \n",
       "</tr>\n",
       "<tr>\n",
       "  <th>Prob(Omnibus):</th>  <td> 0.000</td>   <th>  Jarque-Bera (JB):  </th> <td>126664.210</td>\n",
       "</tr>\n",
       "<tr>\n",
       "  <th>Skew:</th>           <td> 1.040</td>   <th>  Prob(JB):          </th>  <td>    0.00</td> \n",
       "</tr>\n",
       "<tr>\n",
       "  <th>Kurtosis:</th>       <td>11.729</td>   <th>  Cond. No.          </th>  <td>    44.6</td> \n",
       "</tr>\n",
       "</table><br/><br/>Notes:<br/>[1] Standard Errors assume that the covariance matrix of the errors is correctly specified."
      ],
      "text/plain": [
       "<class 'statsmodels.iolib.summary.Summary'>\n",
       "\"\"\"\n",
       "                            OLS Regression Results                            \n",
       "==============================================================================\n",
       "Dep. Variable:                  price   R-squared:                       0.911\n",
       "Model:                            OLS   Adj. R-squared:                  0.911\n",
       "Method:                 Least Squares   F-statistic:                 3.202e+04\n",
       "Date:                Thu, 24 Feb 2022   Prob (F-statistic):               0.00\n",
       "Time:                        21:41:03   Log-Likelihood:                 49765.\n",
       "No. Observations:               37758   AIC:                        -9.950e+04\n",
       "Df Residuals:                   37745   BIC:                        -9.939e+04\n",
       "Df Model:                          12                                         \n",
       "Covariance Type:            nonrobust                                         \n",
       "==============================================================================\n",
       "                 coef    std err          t      P>|t|      [0.025      0.975]\n",
       "------------------------------------------------------------------------------\n",
       "const         -0.1834      0.007    -27.328      0.000      -0.197      -0.170\n",
       "carat          2.2792      0.004    601.615      0.000       2.272       2.287\n",
       "depth         -0.1411      0.009    -15.947      0.000      -0.158      -0.124\n",
       "table         -0.1484      0.008    -17.756      0.000      -0.165      -0.132\n",
       "IF             0.2943      0.003     84.169      0.000       0.287       0.301\n",
       "SI1            0.2011      0.003     67.337      0.000       0.195       0.207\n",
       "SI2            0.1505      0.003     50.061      0.000       0.145       0.156\n",
       "VS1            0.2514      0.003     82.392      0.000       0.245       0.257\n",
       "VS2            0.2363      0.003     78.630      0.000       0.230       0.242\n",
       "VVS1           0.2778      0.003     86.185      0.000       0.272       0.284\n",
       "VVS2           0.2753      0.003     87.772      0.000       0.269       0.281\n",
       "I             -0.0533      0.001    -46.965      0.000      -0.055      -0.051\n",
       "J             -0.1010      0.002    -65.901      0.000      -0.104      -0.098\n",
       "==============================================================================\n",
       "Omnibus:                    10794.680   Durbin-Watson:                   2.009\n",
       "Prob(Omnibus):                  0.000   Jarque-Bera (JB):           126664.210\n",
       "Skew:                           1.040   Prob(JB):                         0.00\n",
       "Kurtosis:                      11.729   Cond. No.                         44.6\n",
       "==============================================================================\n",
       "\n",
       "Notes:\n",
       "[1] Standard Errors assume that the covariance matrix of the errors is correctly specified.\n",
       "\"\"\""
      ]
     },
     "execution_count": 185,
     "metadata": {},
     "output_type": "execute_result"
    }
   ],
   "source": [
    "lm = sm.OLS(y_train,x_train_new1).fit()\n",
    "lm.summary()"
   ]
  },
  {
   "cell_type": "code",
   "execution_count": 186,
   "metadata": {},
   "outputs": [
    {
     "name": "stdout",
     "output_type": "stream",
     "text": [
      "   Features    VIF\n",
      "1     depth  59.52\n",
      "2     table  33.07\n",
      "4       SI1  14.65\n",
      "7       VS2  13.60\n",
      "5       SI2  10.53\n",
      "6       VS1   9.43\n",
      "9      VVS2   6.28\n",
      "8      VVS1   4.80\n",
      "0     carat   3.26\n",
      "3        IF   2.77\n",
      "10        I   1.16\n",
      "11        J   1.11\n"
     ]
    }
   ],
   "source": [
    "x_vif2=x_train_new1.drop([\"const\"],axis=1)\n",
    "Vif(x_vif2)"
   ]
  },
  {
   "cell_type": "markdown",
   "metadata": {},
   "source": [
    "#### Vif for \"depth\" variable is high. It means effected by mutlicollinearity. So, we shall drop \"depth\" variable."
   ]
  },
  {
   "cell_type": "code",
   "execution_count": 187,
   "metadata": {},
   "outputs": [],
   "source": [
    "x_train_new2 = x_train_new1.drop([\"depth\"],axis=1)"
   ]
  },
  {
   "cell_type": "code",
   "execution_count": 188,
   "metadata": {},
   "outputs": [
    {
     "data": {
      "text/plain": [
       "12"
      ]
     },
     "execution_count": 188,
     "metadata": {},
     "output_type": "execute_result"
    }
   ],
   "source": [
    "x_train_new2.shape[1]"
   ]
  },
  {
   "cell_type": "code",
   "execution_count": 189,
   "metadata": {},
   "outputs": [],
   "source": [
    "lm = sm.OLS(y_train, x_train_new2).fit()"
   ]
  },
  {
   "cell_type": "code",
   "execution_count": 190,
   "metadata": {},
   "outputs": [
    {
     "data": {
      "text/html": [
       "<table class=\"simpletable\">\n",
       "<caption>OLS Regression Results</caption>\n",
       "<tr>\n",
       "  <th>Dep. Variable:</th>          <td>price</td>      <th>  R-squared:         </th>  <td>   0.910</td> \n",
       "</tr>\n",
       "<tr>\n",
       "  <th>Model:</th>                   <td>OLS</td>       <th>  Adj. R-squared:    </th>  <td>   0.910</td> \n",
       "</tr>\n",
       "<tr>\n",
       "  <th>Method:</th>             <td>Least Squares</td>  <th>  F-statistic:       </th>  <td>3.467e+04</td>\n",
       "</tr>\n",
       "<tr>\n",
       "  <th>Date:</th>             <td>Thu, 24 Feb 2022</td> <th>  Prob (F-statistic):</th>   <td>  0.00</td>  \n",
       "</tr>\n",
       "<tr>\n",
       "  <th>Time:</th>                 <td>21:41:11</td>     <th>  Log-Likelihood:    </th>  <td>  49639.</td> \n",
       "</tr>\n",
       "<tr>\n",
       "  <th>No. Observations:</th>      <td> 37758</td>      <th>  AIC:               </th> <td>-9.925e+04</td>\n",
       "</tr>\n",
       "<tr>\n",
       "  <th>Df Residuals:</th>          <td> 37746</td>      <th>  BIC:               </th> <td>-9.915e+04</td>\n",
       "</tr>\n",
       "<tr>\n",
       "  <th>Df Model:</th>              <td>    11</td>      <th>                     </th>      <td> </td>    \n",
       "</tr>\n",
       "<tr>\n",
       "  <th>Covariance Type:</th>      <td>nonrobust</td>    <th>                     </th>      <td> </td>    \n",
       "</tr>\n",
       "</table>\n",
       "<table class=\"simpletable\">\n",
       "<tr>\n",
       "    <td></td>       <th>coef</th>     <th>std err</th>      <th>t</th>      <th>P>|t|</th>  <th>[0.025</th>    <th>0.975]</th>  \n",
       "</tr>\n",
       "<tr>\n",
       "  <th>const</th> <td>   -0.2723</td> <td>    0.004</td> <td>  -72.690</td> <td> 0.000</td> <td>   -0.280</td> <td>   -0.265</td>\n",
       "</tr>\n",
       "<tr>\n",
       "  <th>carat</th> <td>    2.2767</td> <td>    0.004</td> <td>  599.460</td> <td> 0.000</td> <td>    2.269</td> <td>    2.284</td>\n",
       "</tr>\n",
       "<tr>\n",
       "  <th>table</th> <td>   -0.1062</td> <td>    0.008</td> <td>  -13.352</td> <td> 0.000</td> <td>   -0.122</td> <td>   -0.091</td>\n",
       "</tr>\n",
       "<tr>\n",
       "  <th>IF</th>    <td>    0.2999</td> <td>    0.003</td> <td>   85.936</td> <td> 0.000</td> <td>    0.293</td> <td>    0.307</td>\n",
       "</tr>\n",
       "<tr>\n",
       "  <th>SI1</th>   <td>    0.2047</td> <td>    0.003</td> <td>   68.496</td> <td> 0.000</td> <td>    0.199</td> <td>    0.211</td>\n",
       "</tr>\n",
       "<tr>\n",
       "  <th>SI2</th>   <td>    0.1542</td> <td>    0.003</td> <td>   51.273</td> <td> 0.000</td> <td>    0.148</td> <td>    0.160</td>\n",
       "</tr>\n",
       "<tr>\n",
       "  <th>VS1</th>   <td>    0.2558</td> <td>    0.003</td> <td>   83.932</td> <td> 0.000</td> <td>    0.250</td> <td>    0.262</td>\n",
       "</tr>\n",
       "<tr>\n",
       "  <th>VS2</th>   <td>    0.2404</td> <td>    0.003</td> <td>   80.061</td> <td> 0.000</td> <td>    0.235</td> <td>    0.246</td>\n",
       "</tr>\n",
       "<tr>\n",
       "  <th>VVS1</th>  <td>    0.2828</td> <td>    0.003</td> <td>   87.829</td> <td> 0.000</td> <td>    0.276</td> <td>    0.289</td>\n",
       "</tr>\n",
       "<tr>\n",
       "  <th>VVS2</th>  <td>    0.2799</td> <td>    0.003</td> <td>   89.328</td> <td> 0.000</td> <td>    0.274</td> <td>    0.286</td>\n",
       "</tr>\n",
       "<tr>\n",
       "  <th>I</th>     <td>   -0.0537</td> <td>    0.001</td> <td>  -47.185</td> <td> 0.000</td> <td>   -0.056</td> <td>   -0.051</td>\n",
       "</tr>\n",
       "<tr>\n",
       "  <th>J</th>     <td>   -0.1016</td> <td>    0.002</td> <td>  -66.123</td> <td> 0.000</td> <td>   -0.105</td> <td>   -0.099</td>\n",
       "</tr>\n",
       "</table>\n",
       "<table class=\"simpletable\">\n",
       "<tr>\n",
       "  <th>Omnibus:</th>       <td>10686.611</td> <th>  Durbin-Watson:     </th>  <td>   2.011</td> \n",
       "</tr>\n",
       "<tr>\n",
       "  <th>Prob(Omnibus):</th>  <td> 0.000</td>   <th>  Jarque-Bera (JB):  </th> <td>127057.174</td>\n",
       "</tr>\n",
       "<tr>\n",
       "  <th>Skew:</th>           <td> 1.022</td>   <th>  Prob(JB):          </th>  <td>    0.00</td> \n",
       "</tr>\n",
       "<tr>\n",
       "  <th>Kurtosis:</th>       <td>11.751</td>   <th>  Cond. No.          </th>  <td>    30.0</td> \n",
       "</tr>\n",
       "</table><br/><br/>Notes:<br/>[1] Standard Errors assume that the covariance matrix of the errors is correctly specified."
      ],
      "text/plain": [
       "<class 'statsmodels.iolib.summary.Summary'>\n",
       "\"\"\"\n",
       "                            OLS Regression Results                            \n",
       "==============================================================================\n",
       "Dep. Variable:                  price   R-squared:                       0.910\n",
       "Model:                            OLS   Adj. R-squared:                  0.910\n",
       "Method:                 Least Squares   F-statistic:                 3.467e+04\n",
       "Date:                Thu, 24 Feb 2022   Prob (F-statistic):               0.00\n",
       "Time:                        21:41:11   Log-Likelihood:                 49639.\n",
       "No. Observations:               37758   AIC:                        -9.925e+04\n",
       "Df Residuals:                   37746   BIC:                        -9.915e+04\n",
       "Df Model:                          11                                         \n",
       "Covariance Type:            nonrobust                                         \n",
       "==============================================================================\n",
       "                 coef    std err          t      P>|t|      [0.025      0.975]\n",
       "------------------------------------------------------------------------------\n",
       "const         -0.2723      0.004    -72.690      0.000      -0.280      -0.265\n",
       "carat          2.2767      0.004    599.460      0.000       2.269       2.284\n",
       "table         -0.1062      0.008    -13.352      0.000      -0.122      -0.091\n",
       "IF             0.2999      0.003     85.936      0.000       0.293       0.307\n",
       "SI1            0.2047      0.003     68.496      0.000       0.199       0.211\n",
       "SI2            0.1542      0.003     51.273      0.000       0.148       0.160\n",
       "VS1            0.2558      0.003     83.932      0.000       0.250       0.262\n",
       "VS2            0.2404      0.003     80.061      0.000       0.235       0.246\n",
       "VVS1           0.2828      0.003     87.829      0.000       0.276       0.289\n",
       "VVS2           0.2799      0.003     89.328      0.000       0.274       0.286\n",
       "I             -0.0537      0.001    -47.185      0.000      -0.056      -0.051\n",
       "J             -0.1016      0.002    -66.123      0.000      -0.105      -0.099\n",
       "==============================================================================\n",
       "Omnibus:                    10686.611   Durbin-Watson:                   2.011\n",
       "Prob(Omnibus):                  0.000   Jarque-Bera (JB):           127057.174\n",
       "Skew:                           1.022   Prob(JB):                         0.00\n",
       "Kurtosis:                      11.751   Cond. No.                         30.0\n",
       "==============================================================================\n",
       "\n",
       "Notes:\n",
       "[1] Standard Errors assume that the covariance matrix of the errors is correctly specified.\n",
       "\"\"\""
      ]
     },
     "execution_count": 190,
     "metadata": {},
     "output_type": "execute_result"
    }
   ],
   "source": [
    "lm.summary()"
   ]
  },
  {
   "cell_type": "code",
   "execution_count": 191,
   "metadata": {},
   "outputs": [],
   "source": [
    "x_vif_3 = x_train_new2.drop([\"const\"],axis=1)"
   ]
  },
  {
   "cell_type": "code",
   "execution_count": 192,
   "metadata": {},
   "outputs": [
    {
     "name": "stdout",
     "output_type": "stream",
     "text": [
      "   Features    VIF\n",
      "1     table  28.75\n",
      "3       SI1   7.50\n",
      "6       VS2   6.89\n",
      "4       SI2   5.75\n",
      "5       VS1   4.90\n",
      "8      VVS2   3.36\n",
      "0     carat   3.20\n",
      "7      VVS1   2.69\n",
      "2        IF   1.76\n",
      "9         I   1.16\n",
      "10        J   1.11\n"
     ]
    }
   ],
   "source": [
    "Vif(x_vif_3)"
   ]
  },
  {
   "cell_type": "code",
   "execution_count": 193,
   "metadata": {},
   "outputs": [],
   "source": [
    "x_train_new3 = x_train_new2.drop([\"table\"],axis=1)"
   ]
  },
  {
   "cell_type": "code",
   "execution_count": 194,
   "metadata": {},
   "outputs": [
    {
     "data": {
      "text/plain": [
       "11"
      ]
     },
     "execution_count": 194,
     "metadata": {},
     "output_type": "execute_result"
    }
   ],
   "source": [
    "len(x_train_new3.columns)"
   ]
  },
  {
   "cell_type": "code",
   "execution_count": 195,
   "metadata": {},
   "outputs": [],
   "source": [
    "lm = sm.OLS(y_train , x_train_new3).fit()"
   ]
  },
  {
   "cell_type": "code",
   "execution_count": 196,
   "metadata": {},
   "outputs": [
    {
     "data": {
      "text/html": [
       "<table class=\"simpletable\">\n",
       "<caption>OLS Regression Results</caption>\n",
       "<tr>\n",
       "  <th>Dep. Variable:</th>          <td>price</td>      <th>  R-squared:         </th>  <td>   0.910</td> \n",
       "</tr>\n",
       "<tr>\n",
       "  <th>Model:</th>                   <td>OLS</td>       <th>  Adj. R-squared:    </th>  <td>   0.909</td> \n",
       "</tr>\n",
       "<tr>\n",
       "  <th>Method:</th>             <td>Least Squares</td>  <th>  F-statistic:       </th>  <td>3.794e+04</td>\n",
       "</tr>\n",
       "<tr>\n",
       "  <th>Date:</th>             <td>Thu, 24 Feb 2022</td> <th>  Prob (F-statistic):</th>   <td>  0.00</td>  \n",
       "</tr>\n",
       "<tr>\n",
       "  <th>Time:</th>                 <td>21:41:16</td>     <th>  Log-Likelihood:    </th>  <td>  49550.</td> \n",
       "</tr>\n",
       "<tr>\n",
       "  <th>No. Observations:</th>      <td> 37758</td>      <th>  AIC:               </th> <td>-9.908e+04</td>\n",
       "</tr>\n",
       "<tr>\n",
       "  <th>Df Residuals:</th>          <td> 37747</td>      <th>  BIC:               </th> <td>-9.898e+04</td>\n",
       "</tr>\n",
       "<tr>\n",
       "  <th>Df Model:</th>              <td>    10</td>      <th>                     </th>      <td> </td>    \n",
       "</tr>\n",
       "<tr>\n",
       "  <th>Covariance Type:</th>      <td>nonrobust</td>    <th>                     </th>      <td> </td>    \n",
       "</tr>\n",
       "</table>\n",
       "<table class=\"simpletable\">\n",
       "<tr>\n",
       "    <td></td>       <th>coef</th>     <th>std err</th>      <th>t</th>      <th>P>|t|</th>  <th>[0.025</th>    <th>0.975]</th>  \n",
       "</tr>\n",
       "<tr>\n",
       "  <th>const</th> <td>   -0.3022</td> <td>    0.003</td> <td> -100.382</td> <td> 0.000</td> <td>   -0.308</td> <td>   -0.296</td>\n",
       "</tr>\n",
       "<tr>\n",
       "  <th>carat</th> <td>    2.2701</td> <td>    0.004</td> <td>  601.378</td> <td> 0.000</td> <td>    2.263</td> <td>    2.278</td>\n",
       "</tr>\n",
       "<tr>\n",
       "  <th>IF</th>    <td>    0.3026</td> <td>    0.003</td> <td>   86.657</td> <td> 0.000</td> <td>    0.296</td> <td>    0.309</td>\n",
       "</tr>\n",
       "<tr>\n",
       "  <th>SI1</th>   <td>    0.2056</td> <td>    0.003</td> <td>   68.631</td> <td> 0.000</td> <td>    0.200</td> <td>    0.211</td>\n",
       "</tr>\n",
       "<tr>\n",
       "  <th>SI2</th>   <td>    0.1549</td> <td>    0.003</td> <td>   51.376</td> <td> 0.000</td> <td>    0.149</td> <td>    0.161</td>\n",
       "</tr>\n",
       "<tr>\n",
       "  <th>VS1</th>   <td>    0.2573</td> <td>    0.003</td> <td>   84.248</td> <td> 0.000</td> <td>    0.251</td> <td>    0.263</td>\n",
       "</tr>\n",
       "<tr>\n",
       "  <th>VS2</th>   <td>    0.2416</td> <td>    0.003</td> <td>   80.303</td> <td> 0.000</td> <td>    0.236</td> <td>    0.248</td>\n",
       "</tr>\n",
       "<tr>\n",
       "  <th>VVS1</th>  <td>    0.2847</td> <td>    0.003</td> <td>   88.307</td> <td> 0.000</td> <td>    0.278</td> <td>    0.291</td>\n",
       "</tr>\n",
       "<tr>\n",
       "  <th>VVS2</th>  <td>    0.2817</td> <td>    0.003</td> <td>   89.778</td> <td> 0.000</td> <td>    0.276</td> <td>    0.288</td>\n",
       "</tr>\n",
       "<tr>\n",
       "  <th>I</th>     <td>   -0.0536</td> <td>    0.001</td> <td>  -46.993</td> <td> 0.000</td> <td>   -0.056</td> <td>   -0.051</td>\n",
       "</tr>\n",
       "<tr>\n",
       "  <th>J</th>     <td>   -0.1017</td> <td>    0.002</td> <td>  -65.999</td> <td> 0.000</td> <td>   -0.105</td> <td>   -0.099</td>\n",
       "</tr>\n",
       "</table>\n",
       "<table class=\"simpletable\">\n",
       "<tr>\n",
       "  <th>Omnibus:</th>       <td>10665.437</td> <th>  Durbin-Watson:     </th>  <td>   2.011</td> \n",
       "</tr>\n",
       "<tr>\n",
       "  <th>Prob(Omnibus):</th>  <td> 0.000</td>   <th>  Jarque-Bera (JB):  </th> <td>122700.673</td>\n",
       "</tr>\n",
       "<tr>\n",
       "  <th>Skew:</th>           <td> 1.029</td>   <th>  Prob(JB):          </th>  <td>    0.00</td> \n",
       "</tr>\n",
       "<tr>\n",
       "  <th>Kurtosis:</th>       <td>11.588</td>   <th>  Cond. No.          </th>  <td>    27.6</td> \n",
       "</tr>\n",
       "</table><br/><br/>Notes:<br/>[1] Standard Errors assume that the covariance matrix of the errors is correctly specified."
      ],
      "text/plain": [
       "<class 'statsmodels.iolib.summary.Summary'>\n",
       "\"\"\"\n",
       "                            OLS Regression Results                            \n",
       "==============================================================================\n",
       "Dep. Variable:                  price   R-squared:                       0.910\n",
       "Model:                            OLS   Adj. R-squared:                  0.909\n",
       "Method:                 Least Squares   F-statistic:                 3.794e+04\n",
       "Date:                Thu, 24 Feb 2022   Prob (F-statistic):               0.00\n",
       "Time:                        21:41:16   Log-Likelihood:                 49550.\n",
       "No. Observations:               37758   AIC:                        -9.908e+04\n",
       "Df Residuals:                   37747   BIC:                        -9.898e+04\n",
       "Df Model:                          10                                         \n",
       "Covariance Type:            nonrobust                                         \n",
       "==============================================================================\n",
       "                 coef    std err          t      P>|t|      [0.025      0.975]\n",
       "------------------------------------------------------------------------------\n",
       "const         -0.3022      0.003   -100.382      0.000      -0.308      -0.296\n",
       "carat          2.2701      0.004    601.378      0.000       2.263       2.278\n",
       "IF             0.3026      0.003     86.657      0.000       0.296       0.309\n",
       "SI1            0.2056      0.003     68.631      0.000       0.200       0.211\n",
       "SI2            0.1549      0.003     51.376      0.000       0.149       0.161\n",
       "VS1            0.2573      0.003     84.248      0.000       0.251       0.263\n",
       "VS2            0.2416      0.003     80.303      0.000       0.236       0.248\n",
       "VVS1           0.2847      0.003     88.307      0.000       0.278       0.291\n",
       "VVS2           0.2817      0.003     89.778      0.000       0.276       0.288\n",
       "I             -0.0536      0.001    -46.993      0.000      -0.056      -0.051\n",
       "J             -0.1017      0.002    -65.999      0.000      -0.105      -0.099\n",
       "==============================================================================\n",
       "Omnibus:                    10665.437   Durbin-Watson:                   2.011\n",
       "Prob(Omnibus):                  0.000   Jarque-Bera (JB):           122700.673\n",
       "Skew:                           1.029   Prob(JB):                         0.00\n",
       "Kurtosis:                      11.588   Cond. No.                         27.6\n",
       "==============================================================================\n",
       "\n",
       "Notes:\n",
       "[1] Standard Errors assume that the covariance matrix of the errors is correctly specified.\n",
       "\"\"\""
      ]
     },
     "execution_count": 196,
     "metadata": {},
     "output_type": "execute_result"
    }
   ],
   "source": [
    "lm.summary()"
   ]
  },
  {
   "cell_type": "code",
   "execution_count": 197,
   "metadata": {},
   "outputs": [],
   "source": [
    "x_vif_4 = x_train_new3.drop([\"const\"],axis=1)"
   ]
  },
  {
   "cell_type": "code",
   "execution_count": 198,
   "metadata": {},
   "outputs": [
    {
     "name": "stdout",
     "output_type": "stream",
     "text": [
      "  Features   VIF\n",
      "0    carat  2.98\n",
      "3      SI2  1.62\n",
      "2      SI1  1.50\n",
      "5      VS2  1.35\n",
      "4      VS1  1.21\n",
      "8        I  1.16\n",
      "9        J  1.11\n",
      "7     VVS2  1.07\n",
      "6     VVS1  1.03\n",
      "1       IF  1.02\n"
     ]
    }
   ],
   "source": [
    "Vif(x_vif_4)"
   ]
  },
  {
   "cell_type": "markdown",
   "metadata": {},
   "source": [
    "- #### Now finally, Co-efficients are significant (p values are less than 5% confidence interval) and VIF's also in considerable range(<5). let's write in an equation form:"
   ]
  },
  {
   "cell_type": "markdown",
   "metadata": {},
   "source": [
    " price=-0.3022+2.27(carat)+0.3026(IF)+0.205(Sl1)+0.154(Sl2)+0.257(VS1)+0.241(VS2)+0.284(VVS1)+0.2817(VVS2)-0.05(I)-0.10(J)"
   ]
  },
  {
   "cell_type": "markdown",
   "metadata": {},
   "source": [
    "### Residual Analysis on train_dataset:\n",
    "- Residuals are differences between the one-step-predicted output from the model and the measured output from the validation data set"
   ]
  },
  {
   "cell_type": "code",
   "execution_count": 199,
   "metadata": {},
   "outputs": [],
   "source": [
    "y_train_pred = lm.predict(x_train_new3) # Finding the price predicted values using the regression model built already:"
   ]
  },
  {
   "cell_type": "code",
   "execution_count": 200,
   "metadata": {},
   "outputs": [],
   "source": [
    "res = y_train-y_train_pred"
   ]
  },
  {
   "cell_type": "code",
   "execution_count": 201,
   "metadata": {},
   "outputs": [
    {
     "data": {
      "text/plain": [
       "29477    0.008661\n",
       "52542   -0.052081\n",
       "8725     0.025769\n",
       "15577   -0.036855\n",
       "19651   -0.131512\n",
       "dtype: float64"
      ]
     },
     "execution_count": 201,
     "metadata": {},
     "output_type": "execute_result"
    }
   ],
   "source": [
    "res.head()"
   ]
  },
  {
   "cell_type": "code",
   "execution_count": 202,
   "metadata": {},
   "outputs": [
    {
     "data": {
      "image/png": "[encoded data removed]",
      "text/plain": [
       "<Figure size 1080x360 with 2 Axes>"
      ]
     },
     "metadata": {},
     "output_type": "display_data"
    }
   ],
   "source": [
    "plt.figure(figsize=(15,5))\n",
    "ax1 = plt.subplot(121)\n",
    "sns.distplot(res,ax=ax1)\n",
    "plt.title(\"Error density distribution\")\n",
    "plt.xlabel(\"Error terms\")\n",
    "\n",
    "ax2 = plt.subplot(122)\n",
    "sns.scatterplot(x=y_train , y=res , ax=ax2)\n",
    "plt.title(\"Error terms vs price_train\")\n",
    "plt.xlabel(\"Error terms\")\n",
    "\n",
    "plt.show()"
   ]
  },
  {
   "cell_type": "markdown",
   "metadata": {},
   "source": [
    "Validating linear regression assumptions:\n",
    "\n",
    " Insights from above two graphs:\n",
    "- Errors terms were normally distributed(from left graph 1).\n",
    "- Errors terms are more or less randomly distrubted with x values.\n",
    "- Variance is also fine..but for some data points error term's variance is quite high."
   ]
  },
  {
   "cell_type": "markdown",
   "metadata": {},
   "source": [
    "## Making Predictions on Test data"
   ]
  },
  {
   "cell_type": "code",
   "execution_count": 203,
   "metadata": {},
   "outputs": [
    {
     "data": {
      "text/html": [
       "<div>\n",
       "<style scoped>\n",
       "    .dataframe tbody tr th:only-of-type {\n",
       "        vertical-align: middle;\n",
       "    }\n",
       "\n",
       "    .dataframe tbody tr th {\n",
       "        vertical-align: top;\n",
       "    }\n",
       "\n",
       "    .dataframe thead th {\n",
       "        text-align: right;\n",
       "    }\n",
       "</style>\n",
       "<table border=\"1\" class=\"dataframe\">\n",
       "  <thead>\n",
       "    <tr style=\"text-align: right;\">\n",
       "      <th></th>\n",
       "      <th>carat</th>\n",
       "      <th>depth</th>\n",
       "      <th>table</th>\n",
       "      <th>price</th>\n",
       "      <th>x</th>\n",
       "      <th>y</th>\n",
       "      <th>z</th>\n",
       "      <th>Good</th>\n",
       "      <th>Ideal</th>\n",
       "      <th>Premium</th>\n",
       "      <th>...</th>\n",
       "      <th>VS1</th>\n",
       "      <th>VS2</th>\n",
       "      <th>VVS1</th>\n",
       "      <th>VVS2</th>\n",
       "      <th>E</th>\n",
       "      <th>F</th>\n",
       "      <th>G</th>\n",
       "      <th>H</th>\n",
       "      <th>I</th>\n",
       "      <th>J</th>\n",
       "    </tr>\n",
       "  </thead>\n",
       "  <tbody>\n",
       "    <tr>\n",
       "      <th>52264</th>\n",
       "      <td>0.57</td>\n",
       "      <td>61.5</td>\n",
       "      <td>57.0</td>\n",
       "      <td>2491</td>\n",
       "      <td>5.35</td>\n",
       "      <td>5.32</td>\n",
       "      <td>3.28</td>\n",
       "      <td>0</td>\n",
       "      <td>1</td>\n",
       "      <td>0</td>\n",
       "      <td>...</td>\n",
       "      <td>0</td>\n",
       "      <td>1</td>\n",
       "      <td>0</td>\n",
       "      <td>0</td>\n",
       "      <td>1</td>\n",
       "      <td>0</td>\n",
       "      <td>0</td>\n",
       "      <td>0</td>\n",
       "      <td>0</td>\n",
       "      <td>0</td>\n",
       "    </tr>\n",
       "    <tr>\n",
       "      <th>21073</th>\n",
       "      <td>1.16</td>\n",
       "      <td>61.5</td>\n",
       "      <td>55.0</td>\n",
       "      <td>9248</td>\n",
       "      <td>6.75</td>\n",
       "      <td>6.81</td>\n",
       "      <td>4.17</td>\n",
       "      <td>0</td>\n",
       "      <td>1</td>\n",
       "      <td>0</td>\n",
       "      <td>...</td>\n",
       "      <td>1</td>\n",
       "      <td>0</td>\n",
       "      <td>0</td>\n",
       "      <td>0</td>\n",
       "      <td>0</td>\n",
       "      <td>0</td>\n",
       "      <td>1</td>\n",
       "      <td>0</td>\n",
       "      <td>0</td>\n",
       "      <td>0</td>\n",
       "    </tr>\n",
       "    <tr>\n",
       "      <th>42161</th>\n",
       "      <td>0.51</td>\n",
       "      <td>63.2</td>\n",
       "      <td>58.0</td>\n",
       "      <td>1284</td>\n",
       "      <td>5.05</td>\n",
       "      <td>5.08</td>\n",
       "      <td>3.20</td>\n",
       "      <td>0</td>\n",
       "      <td>1</td>\n",
       "      <td>0</td>\n",
       "      <td>...</td>\n",
       "      <td>0</td>\n",
       "      <td>0</td>\n",
       "      <td>0</td>\n",
       "      <td>0</td>\n",
       "      <td>0</td>\n",
       "      <td>0</td>\n",
       "      <td>1</td>\n",
       "      <td>0</td>\n",
       "      <td>0</td>\n",
       "      <td>0</td>\n",
       "    </tr>\n",
       "    <tr>\n",
       "      <th>35974</th>\n",
       "      <td>0.42</td>\n",
       "      <td>60.6</td>\n",
       "      <td>56.0</td>\n",
       "      <td>921</td>\n",
       "      <td>4.83</td>\n",
       "      <td>4.87</td>\n",
       "      <td>2.94</td>\n",
       "      <td>0</td>\n",
       "      <td>1</td>\n",
       "      <td>0</td>\n",
       "      <td>...</td>\n",
       "      <td>1</td>\n",
       "      <td>0</td>\n",
       "      <td>0</td>\n",
       "      <td>0</td>\n",
       "      <td>0</td>\n",
       "      <td>1</td>\n",
       "      <td>0</td>\n",
       "      <td>0</td>\n",
       "      <td>0</td>\n",
       "      <td>0</td>\n",
       "    </tr>\n",
       "    <tr>\n",
       "      <th>7641</th>\n",
       "      <td>0.80</td>\n",
       "      <td>62.6</td>\n",
       "      <td>58.0</td>\n",
       "      <td>4268</td>\n",
       "      <td>5.89</td>\n",
       "      <td>5.93</td>\n",
       "      <td>3.70</td>\n",
       "      <td>0</td>\n",
       "      <td>0</td>\n",
       "      <td>1</td>\n",
       "      <td>...</td>\n",
       "      <td>0</td>\n",
       "      <td>0</td>\n",
       "      <td>0</td>\n",
       "      <td>0</td>\n",
       "      <td>0</td>\n",
       "      <td>0</td>\n",
       "      <td>1</td>\n",
       "      <td>0</td>\n",
       "      <td>0</td>\n",
       "      <td>0</td>\n",
       "    </tr>\n",
       "  </tbody>\n",
       "</table>\n",
       "<p>5 rows × 24 columns</p>\n",
       "</div>"
      ],
      "text/plain": [
       "       carat  depth  table  price     x     y     z  Good  Ideal  Premium  \\\n",
       "52264   0.57   61.5   57.0   2491  5.35  5.32  3.28     0      1        0   \n",
       "21073   1.16   61.5   55.0   9248  6.75  6.81  4.17     0      1        0   \n",
       "42161   0.51   63.2   58.0   1284  5.05  5.08  3.20     0      1        0   \n",
       "35974   0.42   60.6   56.0    921  4.83  4.87  2.94     0      1        0   \n",
       "7641    0.80   62.6   58.0   4268  5.89  5.93  3.70     0      0        1   \n",
       "\n",
       "       ...  VS1  VS2  VVS1  VVS2  E  F  G  H  I  J  \n",
       "52264  ...    0    1     0     0  1  0  0  0  0  0  \n",
       "21073  ...    1    0     0     0  0  0  1  0  0  0  \n",
       "42161  ...    0    0     0     0  0  0  1  0  0  0  \n",
       "35974  ...    1    0     0     0  0  1  0  0  0  0  \n",
       "7641   ...    0    0     0     0  0  0  1  0  0  0  \n",
       "\n",
       "[5 rows x 24 columns]"
      ]
     },
     "execution_count": 203,
     "metadata": {},
     "output_type": "execute_result"
    }
   ],
   "source": [
    "df_test.head()"
   ]
  },
  {
   "cell_type": "code",
   "execution_count": 204,
   "metadata": {},
   "outputs": [],
   "source": [
    "df_test[cont] = scaler.transform(df_test[cont])  #scaling the test dataset"
   ]
  },
  {
   "cell_type": "code",
   "execution_count": 205,
   "metadata": {},
   "outputs": [
    {
     "data": {
      "text/html": [
       "<div>\n",
       "<style scoped>\n",
       "    .dataframe tbody tr th:only-of-type {\n",
       "        vertical-align: middle;\n",
       "    }\n",
       "\n",
       "    .dataframe tbody tr th {\n",
       "        vertical-align: top;\n",
       "    }\n",
       "\n",
       "    .dataframe thead th {\n",
       "        text-align: right;\n",
       "    }\n",
       "</style>\n",
       "<table border=\"1\" class=\"dataframe\">\n",
       "  <thead>\n",
       "    <tr style=\"text-align: right;\">\n",
       "      <th></th>\n",
       "      <th>price</th>\n",
       "      <th>carat</th>\n",
       "      <th>depth</th>\n",
       "      <th>table</th>\n",
       "      <th>x</th>\n",
       "      <th>y</th>\n",
       "      <th>z</th>\n",
       "    </tr>\n",
       "  </thead>\n",
       "  <tbody>\n",
       "    <tr>\n",
       "      <th>52264</th>\n",
       "      <td>0.117046</td>\n",
       "      <td>0.076923</td>\n",
       "      <td>0.513889</td>\n",
       "      <td>0.269231</td>\n",
       "      <td>0.498138</td>\n",
       "      <td>0.090323</td>\n",
       "      <td>0.406948</td>\n",
       "    </tr>\n",
       "    <tr>\n",
       "      <th>21073</th>\n",
       "      <td>0.482348</td>\n",
       "      <td>0.199584</td>\n",
       "      <td>0.513889</td>\n",
       "      <td>0.230769</td>\n",
       "      <td>0.628492</td>\n",
       "      <td>0.115620</td>\n",
       "      <td>0.517370</td>\n",
       "    </tr>\n",
       "    <tr>\n",
       "      <th>42161</th>\n",
       "      <td>0.051792</td>\n",
       "      <td>0.064449</td>\n",
       "      <td>0.561111</td>\n",
       "      <td>0.288462</td>\n",
       "      <td>0.470205</td>\n",
       "      <td>0.086248</td>\n",
       "      <td>0.397022</td>\n",
       "    </tr>\n",
       "    <tr>\n",
       "      <th>35974</th>\n",
       "      <td>0.032167</td>\n",
       "      <td>0.045738</td>\n",
       "      <td>0.488889</td>\n",
       "      <td>0.250000</td>\n",
       "      <td>0.449721</td>\n",
       "      <td>0.082683</td>\n",
       "      <td>0.364764</td>\n",
       "    </tr>\n",
       "    <tr>\n",
       "      <th>7641</th>\n",
       "      <td>0.213116</td>\n",
       "      <td>0.124740</td>\n",
       "      <td>0.544444</td>\n",
       "      <td>0.288462</td>\n",
       "      <td>0.548417</td>\n",
       "      <td>0.100679</td>\n",
       "      <td>0.459057</td>\n",
       "    </tr>\n",
       "  </tbody>\n",
       "</table>\n",
       "</div>"
      ],
      "text/plain": [
       "          price     carat     depth     table         x         y         z\n",
       "52264  0.117046  0.076923  0.513889  0.269231  0.498138  0.090323  0.406948\n",
       "21073  0.482348  0.199584  0.513889  0.230769  0.628492  0.115620  0.517370\n",
       "42161  0.051792  0.064449  0.561111  0.288462  0.470205  0.086248  0.397022\n",
       "35974  0.032167  0.045738  0.488889  0.250000  0.449721  0.082683  0.364764\n",
       "7641   0.213116  0.124740  0.544444  0.288462  0.548417  0.100679  0.459057"
      ]
     },
     "execution_count": 205,
     "metadata": {},
     "output_type": "execute_result"
    }
   ],
   "source": [
    "df_test[cont].head()"
   ]
  },
  {
   "cell_type": "code",
   "execution_count": 206,
   "metadata": {},
   "outputs": [
    {
     "data": {
      "text/html": [
       "<div>\n",
       "<style scoped>\n",
       "    .dataframe tbody tr th:only-of-type {\n",
       "        vertical-align: middle;\n",
       "    }\n",
       "\n",
       "    .dataframe tbody tr th {\n",
       "        vertical-align: top;\n",
       "    }\n",
       "\n",
       "    .dataframe thead th {\n",
       "        text-align: right;\n",
       "    }\n",
       "</style>\n",
       "<table border=\"1\" class=\"dataframe\">\n",
       "  <thead>\n",
       "    <tr style=\"text-align: right;\">\n",
       "      <th></th>\n",
       "      <th>count</th>\n",
       "      <th>mean</th>\n",
       "      <th>std</th>\n",
       "      <th>min</th>\n",
       "      <th>25%</th>\n",
       "      <th>50%</th>\n",
       "      <th>75%</th>\n",
       "      <th>max</th>\n",
       "    </tr>\n",
       "  </thead>\n",
       "  <tbody>\n",
       "    <tr>\n",
       "      <th>price</th>\n",
       "      <td>16182.0</td>\n",
       "      <td>0.193051</td>\n",
       "      <td>0.213616</td>\n",
       "      <td>0.000433</td>\n",
       "      <td>0.033951</td>\n",
       "      <td>0.111775</td>\n",
       "      <td>0.264908</td>\n",
       "      <td>0.997027</td>\n",
       "    </tr>\n",
       "    <tr>\n",
       "      <th>carat</th>\n",
       "      <td>16182.0</td>\n",
       "      <td>0.123801</td>\n",
       "      <td>0.097921</td>\n",
       "      <td>0.000000</td>\n",
       "      <td>0.041580</td>\n",
       "      <td>0.103950</td>\n",
       "      <td>0.174636</td>\n",
       "      <td>0.817048</td>\n",
       "    </tr>\n",
       "    <tr>\n",
       "      <th>depth</th>\n",
       "      <td>16182.0</td>\n",
       "      <td>0.520448</td>\n",
       "      <td>0.039478</td>\n",
       "      <td>0.000000</td>\n",
       "      <td>0.500000</td>\n",
       "      <td>0.522222</td>\n",
       "      <td>0.541667</td>\n",
       "      <td>0.811111</td>\n",
       "    </tr>\n",
       "    <tr>\n",
       "      <th>table</th>\n",
       "      <td>16182.0</td>\n",
       "      <td>0.278447</td>\n",
       "      <td>0.042969</td>\n",
       "      <td>0.115385</td>\n",
       "      <td>0.250000</td>\n",
       "      <td>0.269231</td>\n",
       "      <td>0.307692</td>\n",
       "      <td>0.634615</td>\n",
       "    </tr>\n",
       "    <tr>\n",
       "      <th>x</th>\n",
       "      <td>16182.0</td>\n",
       "      <td>0.533155</td>\n",
       "      <td>0.104117</td>\n",
       "      <td>0.000000</td>\n",
       "      <td>0.438547</td>\n",
       "      <td>0.529795</td>\n",
       "      <td>0.608007</td>\n",
       "      <td>0.931099</td>\n",
       "    </tr>\n",
       "    <tr>\n",
       "      <th>y</th>\n",
       "      <td>16182.0</td>\n",
       "      <td>0.097255</td>\n",
       "      <td>0.018843</td>\n",
       "      <td>0.000000</td>\n",
       "      <td>0.080136</td>\n",
       "      <td>0.096774</td>\n",
       "      <td>0.110866</td>\n",
       "      <td>0.167233</td>\n",
       "    </tr>\n",
       "    <tr>\n",
       "      <th>z</th>\n",
       "      <td>16182.0</td>\n",
       "      <td>0.438698</td>\n",
       "      <td>0.090182</td>\n",
       "      <td>0.000000</td>\n",
       "      <td>0.361042</td>\n",
       "      <td>0.437965</td>\n",
       "      <td>0.500000</td>\n",
       "      <td>3.945409</td>\n",
       "    </tr>\n",
       "  </tbody>\n",
       "</table>\n",
       "</div>"
      ],
      "text/plain": [
       "         count      mean       std       min       25%       50%       75%  \\\n",
       "price  16182.0  0.193051  0.213616  0.000433  0.033951  0.111775  0.264908   \n",
       "carat  16182.0  0.123801  0.097921  0.000000  0.041580  0.103950  0.174636   \n",
       "depth  16182.0  0.520448  0.039478  0.000000  0.500000  0.522222  0.541667   \n",
       "table  16182.0  0.278447  0.042969  0.115385  0.250000  0.269231  0.307692   \n",
       "x      16182.0  0.533155  0.104117  0.000000  0.438547  0.529795  0.608007   \n",
       "y      16182.0  0.097255  0.018843  0.000000  0.080136  0.096774  0.110866   \n",
       "z      16182.0  0.438698  0.090182  0.000000  0.361042  0.437965  0.500000   \n",
       "\n",
       "            max  \n",
       "price  0.997027  \n",
       "carat  0.817048  \n",
       "depth  0.811111  \n",
       "table  0.634615  \n",
       "x      0.931099  \n",
       "y      0.167233  \n",
       "z      3.945409  "
      ]
     },
     "execution_count": 206,
     "metadata": {},
     "output_type": "execute_result"
    }
   ],
   "source": [
    "df_test[cont].describe().T"
   ]
  },
  {
   "cell_type": "markdown",
   "metadata": {},
   "source": [
    "## Creating X_test, y_test variables"
   ]
  },
  {
   "cell_type": "code",
   "execution_count": 207,
   "metadata": {},
   "outputs": [],
   "source": [
    "y_test = df_test[\"price\"]"
   ]
  },
  {
   "cell_type": "code",
   "execution_count": 208,
   "metadata": {},
   "outputs": [
    {
     "data": {
      "text/plain": [
       "52264    0.117046\n",
       "21073    0.482348\n",
       "42161    0.051792\n",
       "35974    0.032167\n",
       "7641     0.213116\n",
       "Name: price, dtype: float64"
      ]
     },
     "execution_count": 208,
     "metadata": {},
     "output_type": "execute_result"
    }
   ],
   "source": [
    "y_test.head()"
   ]
  },
  {
   "cell_type": "code",
   "execution_count": 209,
   "metadata": {},
   "outputs": [],
   "source": [
    "x_test = df_test.drop([\"price\"],axis=1)"
   ]
  },
  {
   "cell_type": "code",
   "execution_count": 210,
   "metadata": {},
   "outputs": [
    {
     "data": {
      "text/html": [
       "<div>\n",
       "<style scoped>\n",
       "    .dataframe tbody tr th:only-of-type {\n",
       "        vertical-align: middle;\n",
       "    }\n",
       "\n",
       "    .dataframe tbody tr th {\n",
       "        vertical-align: top;\n",
       "    }\n",
       "\n",
       "    .dataframe thead th {\n",
       "        text-align: right;\n",
       "    }\n",
       "</style>\n",
       "<table border=\"1\" class=\"dataframe\">\n",
       "  <thead>\n",
       "    <tr style=\"text-align: right;\">\n",
       "      <th></th>\n",
       "      <th>carat</th>\n",
       "      <th>depth</th>\n",
       "      <th>table</th>\n",
       "      <th>x</th>\n",
       "      <th>y</th>\n",
       "      <th>z</th>\n",
       "      <th>Good</th>\n",
       "      <th>Ideal</th>\n",
       "      <th>Premium</th>\n",
       "      <th>Very Good</th>\n",
       "      <th>...</th>\n",
       "      <th>VS1</th>\n",
       "      <th>VS2</th>\n",
       "      <th>VVS1</th>\n",
       "      <th>VVS2</th>\n",
       "      <th>E</th>\n",
       "      <th>F</th>\n",
       "      <th>G</th>\n",
       "      <th>H</th>\n",
       "      <th>I</th>\n",
       "      <th>J</th>\n",
       "    </tr>\n",
       "  </thead>\n",
       "  <tbody>\n",
       "    <tr>\n",
       "      <th>52264</th>\n",
       "      <td>0.076923</td>\n",
       "      <td>0.513889</td>\n",
       "      <td>0.269231</td>\n",
       "      <td>0.498138</td>\n",
       "      <td>0.090323</td>\n",
       "      <td>0.406948</td>\n",
       "      <td>0</td>\n",
       "      <td>1</td>\n",
       "      <td>0</td>\n",
       "      <td>0</td>\n",
       "      <td>...</td>\n",
       "      <td>0</td>\n",
       "      <td>1</td>\n",
       "      <td>0</td>\n",
       "      <td>0</td>\n",
       "      <td>1</td>\n",
       "      <td>0</td>\n",
       "      <td>0</td>\n",
       "      <td>0</td>\n",
       "      <td>0</td>\n",
       "      <td>0</td>\n",
       "    </tr>\n",
       "    <tr>\n",
       "      <th>21073</th>\n",
       "      <td>0.199584</td>\n",
       "      <td>0.513889</td>\n",
       "      <td>0.230769</td>\n",
       "      <td>0.628492</td>\n",
       "      <td>0.115620</td>\n",
       "      <td>0.517370</td>\n",
       "      <td>0</td>\n",
       "      <td>1</td>\n",
       "      <td>0</td>\n",
       "      <td>0</td>\n",
       "      <td>...</td>\n",
       "      <td>1</td>\n",
       "      <td>0</td>\n",
       "      <td>0</td>\n",
       "      <td>0</td>\n",
       "      <td>0</td>\n",
       "      <td>0</td>\n",
       "      <td>1</td>\n",
       "      <td>0</td>\n",
       "      <td>0</td>\n",
       "      <td>0</td>\n",
       "    </tr>\n",
       "    <tr>\n",
       "      <th>42161</th>\n",
       "      <td>0.064449</td>\n",
       "      <td>0.561111</td>\n",
       "      <td>0.288462</td>\n",
       "      <td>0.470205</td>\n",
       "      <td>0.086248</td>\n",
       "      <td>0.397022</td>\n",
       "      <td>0</td>\n",
       "      <td>1</td>\n",
       "      <td>0</td>\n",
       "      <td>0</td>\n",
       "      <td>...</td>\n",
       "      <td>0</td>\n",
       "      <td>0</td>\n",
       "      <td>0</td>\n",
       "      <td>0</td>\n",
       "      <td>0</td>\n",
       "      <td>0</td>\n",
       "      <td>1</td>\n",
       "      <td>0</td>\n",
       "      <td>0</td>\n",
       "      <td>0</td>\n",
       "    </tr>\n",
       "    <tr>\n",
       "      <th>35974</th>\n",
       "      <td>0.045738</td>\n",
       "      <td>0.488889</td>\n",
       "      <td>0.250000</td>\n",
       "      <td>0.449721</td>\n",
       "      <td>0.082683</td>\n",
       "      <td>0.364764</td>\n",
       "      <td>0</td>\n",
       "      <td>1</td>\n",
       "      <td>0</td>\n",
       "      <td>0</td>\n",
       "      <td>...</td>\n",
       "      <td>1</td>\n",
       "      <td>0</td>\n",
       "      <td>0</td>\n",
       "      <td>0</td>\n",
       "      <td>0</td>\n",
       "      <td>1</td>\n",
       "      <td>0</td>\n",
       "      <td>0</td>\n",
       "      <td>0</td>\n",
       "      <td>0</td>\n",
       "    </tr>\n",
       "    <tr>\n",
       "      <th>7641</th>\n",
       "      <td>0.124740</td>\n",
       "      <td>0.544444</td>\n",
       "      <td>0.288462</td>\n",
       "      <td>0.548417</td>\n",
       "      <td>0.100679</td>\n",
       "      <td>0.459057</td>\n",
       "      <td>0</td>\n",
       "      <td>0</td>\n",
       "      <td>1</td>\n",
       "      <td>0</td>\n",
       "      <td>...</td>\n",
       "      <td>0</td>\n",
       "      <td>0</td>\n",
       "      <td>0</td>\n",
       "      <td>0</td>\n",
       "      <td>0</td>\n",
       "      <td>0</td>\n",
       "      <td>1</td>\n",
       "      <td>0</td>\n",
       "      <td>0</td>\n",
       "      <td>0</td>\n",
       "    </tr>\n",
       "  </tbody>\n",
       "</table>\n",
       "<p>5 rows × 23 columns</p>\n",
       "</div>"
      ],
      "text/plain": [
       "          carat     depth     table         x         y         z  Good  \\\n",
       "52264  0.076923  0.513889  0.269231  0.498138  0.090323  0.406948     0   \n",
       "21073  0.199584  0.513889  0.230769  0.628492  0.115620  0.517370     0   \n",
       "42161  0.064449  0.561111  0.288462  0.470205  0.086248  0.397022     0   \n",
       "35974  0.045738  0.488889  0.250000  0.449721  0.082683  0.364764     0   \n",
       "7641   0.124740  0.544444  0.288462  0.548417  0.100679  0.459057     0   \n",
       "\n",
       "       Ideal  Premium  Very Good  ...  VS1  VS2  VVS1  VVS2  E  F  G  H  I  J  \n",
       "52264      1        0          0  ...    0    1     0     0  1  0  0  0  0  0  \n",
       "21073      1        0          0  ...    1    0     0     0  0  0  1  0  0  0  \n",
       "42161      1        0          0  ...    0    0     0     0  0  0  1  0  0  0  \n",
       "35974      1        0          0  ...    1    0     0     0  0  1  0  0  0  0  \n",
       "7641       0        1          0  ...    0    0     0     0  0  0  1  0  0  0  \n",
       "\n",
       "[5 rows x 23 columns]"
      ]
     },
     "execution_count": 210,
     "metadata": {},
     "output_type": "execute_result"
    }
   ],
   "source": [
    "x_test.head()"
   ]
  },
  {
   "cell_type": "code",
   "execution_count": 211,
   "metadata": {},
   "outputs": [],
   "source": [
    "x_test_new = x_test[x_vif_4.columns]"
   ]
  },
  {
   "cell_type": "code",
   "execution_count": 212,
   "metadata": {},
   "outputs": [],
   "source": [
    "x_test_new = sm.add_constant(x_test_new)"
   ]
  },
  {
   "cell_type": "code",
   "execution_count": 213,
   "metadata": {},
   "outputs": [
    {
     "data": {
      "text/html": [
       "<div>\n",
       "<style scoped>\n",
       "    .dataframe tbody tr th:only-of-type {\n",
       "        vertical-align: middle;\n",
       "    }\n",
       "\n",
       "    .dataframe tbody tr th {\n",
       "        vertical-align: top;\n",
       "    }\n",
       "\n",
       "    .dataframe thead th {\n",
       "        text-align: right;\n",
       "    }\n",
       "</style>\n",
       "<table border=\"1\" class=\"dataframe\">\n",
       "  <thead>\n",
       "    <tr style=\"text-align: right;\">\n",
       "      <th></th>\n",
       "      <th>const</th>\n",
       "      <th>carat</th>\n",
       "      <th>IF</th>\n",
       "      <th>SI1</th>\n",
       "      <th>SI2</th>\n",
       "      <th>VS1</th>\n",
       "      <th>VS2</th>\n",
       "      <th>VVS1</th>\n",
       "      <th>VVS2</th>\n",
       "      <th>I</th>\n",
       "      <th>J</th>\n",
       "    </tr>\n",
       "  </thead>\n",
       "  <tbody>\n",
       "    <tr>\n",
       "      <th>52264</th>\n",
       "      <td>1.0</td>\n",
       "      <td>0.076923</td>\n",
       "      <td>0</td>\n",
       "      <td>0</td>\n",
       "      <td>0</td>\n",
       "      <td>0</td>\n",
       "      <td>1</td>\n",
       "      <td>0</td>\n",
       "      <td>0</td>\n",
       "      <td>0</td>\n",
       "      <td>0</td>\n",
       "    </tr>\n",
       "    <tr>\n",
       "      <th>21073</th>\n",
       "      <td>1.0</td>\n",
       "      <td>0.199584</td>\n",
       "      <td>0</td>\n",
       "      <td>0</td>\n",
       "      <td>0</td>\n",
       "      <td>1</td>\n",
       "      <td>0</td>\n",
       "      <td>0</td>\n",
       "      <td>0</td>\n",
       "      <td>0</td>\n",
       "      <td>0</td>\n",
       "    </tr>\n",
       "    <tr>\n",
       "      <th>42161</th>\n",
       "      <td>1.0</td>\n",
       "      <td>0.064449</td>\n",
       "      <td>0</td>\n",
       "      <td>1</td>\n",
       "      <td>0</td>\n",
       "      <td>0</td>\n",
       "      <td>0</td>\n",
       "      <td>0</td>\n",
       "      <td>0</td>\n",
       "      <td>0</td>\n",
       "      <td>0</td>\n",
       "    </tr>\n",
       "    <tr>\n",
       "      <th>35974</th>\n",
       "      <td>1.0</td>\n",
       "      <td>0.045738</td>\n",
       "      <td>0</td>\n",
       "      <td>0</td>\n",
       "      <td>0</td>\n",
       "      <td>1</td>\n",
       "      <td>0</td>\n",
       "      <td>0</td>\n",
       "      <td>0</td>\n",
       "      <td>0</td>\n",
       "      <td>0</td>\n",
       "    </tr>\n",
       "    <tr>\n",
       "      <th>7641</th>\n",
       "      <td>1.0</td>\n",
       "      <td>0.124740</td>\n",
       "      <td>1</td>\n",
       "      <td>0</td>\n",
       "      <td>0</td>\n",
       "      <td>0</td>\n",
       "      <td>0</td>\n",
       "      <td>0</td>\n",
       "      <td>0</td>\n",
       "      <td>0</td>\n",
       "      <td>0</td>\n",
       "    </tr>\n",
       "  </tbody>\n",
       "</table>\n",
       "</div>"
      ],
      "text/plain": [
       "       const     carat  IF  SI1  SI2  VS1  VS2  VVS1  VVS2  I  J\n",
       "52264    1.0  0.076923   0    0    0    0    1     0     0  0  0\n",
       "21073    1.0  0.199584   0    0    0    1    0     0     0  0  0\n",
       "42161    1.0  0.064449   0    1    0    0    0     0     0  0  0\n",
       "35974    1.0  0.045738   0    0    0    1    0     0     0  0  0\n",
       "7641     1.0  0.124740   1    0    0    0    0     0     0  0  0"
      ]
     },
     "execution_count": 213,
     "metadata": {},
     "output_type": "execute_result"
    }
   ],
   "source": [
    "x_test_new.head()"
   ]
  },
  {
   "cell_type": "code",
   "execution_count": 214,
   "metadata": {},
   "outputs": [],
   "source": [
    "y_pred_lm=lm.predict(x_test_new)"
   ]
  },
  {
   "cell_type": "code",
   "execution_count": 215,
   "metadata": {},
   "outputs": [
    {
     "data": {
      "text/plain": [
       "(16182, 11)"
      ]
     },
     "execution_count": 215,
     "metadata": {},
     "output_type": "execute_result"
    }
   ],
   "source": [
    "x_test_new.shape"
   ]
  },
  {
   "cell_type": "code",
   "execution_count": 216,
   "metadata": {},
   "outputs": [
    {
     "data": {
      "text/plain": [
       "0.9077776379234881"
      ]
     },
     "execution_count": 216,
     "metadata": {},
     "output_type": "execute_result"
    }
   ],
   "source": [
    "from sklearn.metrics import r2_score   #regression score function\n",
    "r2_score(y_true=y_test,y_pred=y_pred_lm)"
   ]
  },
  {
   "cell_type": "code",
   "execution_count": 217,
   "metadata": {},
   "outputs": [
    {
     "name": "stdout",
     "output_type": "stream",
     "text": [
      "0.9069424896419517\n"
     ]
    }
   ],
   "source": [
    "n=16182\n",
    "r2=0.907\n",
    "k=10\n",
    "Adjusted_R2 = 1 - float((1-r2)*(n-1)/(n-k-1))\n",
    "print(Adjusted_R2)"
   ]
  },
  {
   "cell_type": "markdown",
   "metadata": {},
   "source": [
    "### Model Visualization:¶"
   ]
  },
  {
   "cell_type": "code",
   "execution_count": 255,
   "metadata": {},
   "outputs": [
    {
     "data": {
      "image/png": "[encoded data removed]",
      "text/plain": [
       "<Figure size 360x216 with 1 Axes>"
      ]
     },
     "metadata": {},
     "output_type": "display_data"
    }
   ],
   "source": [
    "plt.figure(figsize=(5,3))\n",
    "sns.scatterplot(x=y_test,y=y_pred_lm , color=\"green\")\n",
    "plt.xlabel(\"y_actual on test data\")\n",
    "plt.ylabel(\"y_predict on test data\")\n",
    "plt.title(\"y_actual vs y_predict\",fontdict={\"fontsize\":20,\"fontweight\":-0.5,\"color\":\"Red\"})\n",
    "plt.show()"
   ]
  },
  {
   "cell_type": "markdown",
   "metadata": {},
   "source": [
    "## Business Insights:\n",
    "### Train set:\n",
    "- rsquare: 0.91\n",
    "- adjusted square: 0.90\n",
    "- Rsqure is 0.91 which tells the corelation between price of diamonds vs different independent varaiables explained by 91%\n",
    "- If we see the final model:\n",
    "  - price=-0.3022-0.05(I)-0.10(J)+0.3026(IF)+0.205(Sl1)+0.154(Sl2)+0.257(VS1)+0.241(VS2)+0.284(VVS1)+0.2817(VVS2)+2.27(carat)\n",
    "  - Co-efficient of the Carat is highest most, which signifies if there is increase of one unit of carat there will increase of 2.27 in price.\n",
    "  - Next most positive effecting indepenedent variable is IF clarity type variable.\n",
    "  - Most Negatively effecting parameter is J color type diamonds ,means a loss of 0.10 will occur with increase of one unit of J color type diamonds.\n",
    "  \n",
    "### Test set:\n",
    "- rsquare: 0.907\n",
    "- Adjusted square: 0.906\n",
    "\n",
    "### Finally, Our linear model is good as the r-square difference in train & test dataset is less than 5%."
   ]
  },
  {
   "cell_type": "markdown",
   "metadata": {},
   "source": [
    "# Comparing with other models"
   ]
  },
  {
   "cell_type": "code",
   "execution_count": 224,
   "metadata": {},
   "outputs": [],
   "source": [
    "# Imports\n",
    "from sklearn.linear_model import Lasso\n",
    "from sklearn.linear_model import LinearRegression\n",
    "from sklearn.linear_model import Ridge\n",
    "from sklearn.linear_model import ElasticNet\n",
    "from sklearn.neighbors import KNeighborsRegressor\n",
    "from sklearn.ensemble import RandomForestRegressor\n",
    "from sklearn.ensemble import GradientBoostingRegressor\n",
    "from sklearn.ensemble import AdaBoostRegressor\n",
    "from sklearn.tree import DecisionTreeRegressor\n",
    "\n",
    "from sklearn import metrics"
   ]
  },
  {
   "cell_type": "code",
   "execution_count": 225,
   "metadata": {},
   "outputs": [],
   "source": [
    "# Models Object\n",
    "models = {\n",
    "    'Lasso': {\n",
    "        'model': Lasso()\n",
    "    },\n",
    "    'Ridge': {\n",
    "        'model': Ridge()\n",
    "    },\n",
    "    'LinearRegression': {\n",
    "        'model': LinearRegression()\n",
    "    },\n",
    "    'ElasticNet': {\n",
    "        'model': ElasticNet()\n",
    "    },\n",
    "    'KNeighborsRegressor': {\n",
    "        'model': KNeighborsRegressor()\n",
    "    },\n",
    "    'RandomForestRegressor': {\n",
    "        'model': RandomForestRegressor()\n",
    "    },\n",
    "    'GradientBoostingRegressor': {\n",
    "        'model': GradientBoostingRegressor()\n",
    "    },\n",
    "    'AdaBoostRegressor': {\n",
    "        'model': AdaBoostRegressor(n_estimators = 5, learning_rate = 1.2, loss = 'exponential', random_state = 2)\n",
    "    },\n",
    "    'DecisionTreeRegressor': {\n",
    "        'model': DecisionTreeRegressor(max_depth = 9, min_samples_split = 4, random_state = 1)\n",
    "    }\n",
    "}"
   ]
  },
  {
   "cell_type": "code",
   "execution_count": 226,
   "metadata": {},
   "outputs": [],
   "source": [
    "# Add dictionary attributes\n",
    "for model in models:\n",
    "    models[model]['prediction'] = None\n",
    "    models[model]['errors'] = {\n",
    "        'mae': None,\n",
    "        'mse': None,\n",
    "        'rmse': None\n",
    "    }\n",
    "    models[model]['scores'] = {\n",
    "        'r2': None\n",
    "    }"
   ]
  },
  {
   "cell_type": "code",
   "execution_count": 228,
   "metadata": {},
   "outputs": [
    {
     "name": "stdout",
     "output_type": "stream",
     "text": [
      "Running  Lasso()\n",
      "MAE:  0.16223612275948218\n",
      "MSE:  0.045636736038266304\n",
      "RMSE:  0.21362756385416726\n",
      "R2:  -0.00016878505788198161\n",
      "\n",
      "\n",
      "Running  Ridge()\n",
      "MAE:  0.044323654819221035\n",
      "MSE:  0.00420836094956889\n",
      "RMSE:  0.06487188103923679\n",
      "R2:  0.907770107518512\n",
      "\n",
      "\n",
      "Running  LinearRegression()\n",
      "MAE:  0.04444594030420007\n",
      "MSE:  0.00420801734446014\n",
      "RMSE:  0.06486923264892333\n",
      "R2:  0.9077776379234881\n",
      "\n",
      "\n",
      "Running  ElasticNet()\n",
      "MAE:  0.16223612275948218\n",
      "MSE:  0.045636736038266304\n",
      "RMSE:  0.21362756385416726\n",
      "R2:  -0.00016878505788198161\n",
      "\n",
      "\n",
      "Running  KNeighborsRegressor()\n",
      "MAE:  0.02331709825014665\n",
      "MSE:  0.0018869356497919613\n",
      "RMSE:  0.04343887256584776\n",
      "R2:  0.9586461631534654\n",
      "\n",
      "\n",
      "Running  RandomForestRegressor()\n",
      "MAE:  0.02251946223162467\n",
      "MSE:  0.0018396226866078558\n",
      "RMSE:  0.042890822871657006\n",
      "R2:  0.9596830679151394\n",
      "\n",
      "\n",
      "Running  GradientBoostingRegressor()\n",
      "MAE:  0.026564955730261273\n",
      "MSE:  0.0025182012411053916\n",
      "RMSE:  0.050181682326376736\n",
      "R2:  0.9448114283691155\n",
      "\n",
      "\n",
      "Running  AdaBoostRegressor(learning_rate=1.2, loss='exponential', n_estimators=5,\n",
      "                  random_state=2)\n",
      "MAE:  0.044897291437992065\n",
      "MSE:  0.005710914856591406\n",
      "RMSE:  0.07557059518484294\n",
      "R2:  0.8748403310680098\n",
      "\n",
      "\n",
      "Running  DecisionTreeRegressor(max_depth=9, min_samples_split=4, random_state=1)\n",
      "MAE:  0.02577512252777042\n",
      "MSE:  0.002549517418532625\n",
      "RMSE:  0.05049274619717792\n",
      "R2:  0.9441251070882992\n",
      "\n",
      "\n"
     ]
    }
   ],
   "source": [
    "# Let's try our luck with a bunch of models\n",
    "for model in models:\n",
    "    print('Running ', models[model]['model'])\n",
    "    models[model]['model'].fit(x_train_new3, y_train)\n",
    "    models[model]['predictions'] = models[model]['model'].predict(x_test_new)\n",
    "    models[model]['errors']['mae'] = metrics.mean_absolute_error(y_test, models[model]['predictions'])\n",
    "    models[model]['errors']['mse'] = metrics.mean_squared_error(y_test, models[model]['predictions'])\n",
    "    models[model]['errors']['rmse'] = np.sqrt(models[model]['errors']['mse'])\n",
    "    models[model]['scores']['r2'] = metrics.r2_score(y_test, models[model]['predictions'])\n",
    "    print('MAE: ', models[model]['errors']['mae'])\n",
    "    print('MSE: ', models[model]['errors']['mse'])\n",
    "    print('RMSE: ', models[model]['errors']['rmse'])\n",
    "    print('R2: ', models[model]['scores']['r2'])\n",
    "    print('\\n')"
   ]
  },
  {
   "cell_type": "markdown",
   "metadata": {},
   "source": [
    "### Visualize and Analyse The Predictions To Indicate Model Performance"
   ]
  },
  {
   "cell_type": "code",
   "execution_count": 277,
   "metadata": {},
   "outputs": [
    {
     "data": {
      "image/png": "[encoded data removed]",
      "text/plain": [
       "<Figure size 360x216 with 1 Axes>"
      ]
     },
     "metadata": {},
     "output_type": "display_data"
    },
    {
     "data": {
      "image/png": "[encoded data removed]",
      "text/plain": [
       "<Figure size 360x216 with 1 Axes>"
      ]
     },
     "metadata": {},
     "output_type": "display_data"
    },
    {
     "data": {
      "image/png": "[encoded data removed]",
      "text/plain": [
       "<Figure size 360x216 with 1 Axes>"
      ]
     },
     "metadata": {},
     "output_type": "display_data"
    },
    {
     "data": {
      "image/png": "[encoded data removed]",
      "text/plain": [
       "<Figure size 360x216 with 1 Axes>"
      ]
     },
     "metadata": {},
     "output_type": "display_data"
    },
    {
     "data": {
      "image/png": "[encoded data removed]",
      "text/plain": [
       "<Figure size 360x216 with 1 Axes>"
      ]
     },
     "metadata": {},
     "output_type": "display_data"
    },
    {
     "data": {
      "image/png": "[encoded data removed]",
      "text/plain": [
       "<Figure size 360x216 with 1 Axes>"
      ]
     },
     "metadata": {},
     "output_type": "display_data"
    },
    {
     "data": {
      "image/png": "[encoded data removed]",
      "text/plain": [
       "<Figure size 360x216 with 1 Axes>"
      ]
     },
     "metadata": {},
     "output_type": "display_data"
    },
    {
     "data": {
      "image/png": "[encoded data removed]",
      "text/plain": [
       "<Figure size 360x216 with 1 Axes>"
      ]
     },
     "metadata": {},
     "output_type": "display_data"
    },
    {
     "data": {
      "image/png": "[encoded data removed]",
      "text/plain": [
       "<Figure size 360x216 with 1 Axes>"
      ]
     },
     "metadata": {},
     "output_type": "display_data"
    },
    {
     "data": {
      "image/png": "[encoded data removed]",
      "text/plain": [
       "<Figure size 360x216 with 1 Axes>"
      ]
     },
     "metadata": {},
     "output_type": "display_data"
    },
    {
     "data": {
      "image/png": "[encoded data removed]",
      "text/plain": [
       "<Figure size 360x216 with 1 Axes>"
      ]
     },
     "metadata": {},
     "output_type": "display_data"
    },
    {
     "data": {
      "image/png": "[encoded data removed]",
      "text/plain": [
       "<Figure size 360x216 with 1 Axes>"
      ]
     },
     "metadata": {},
     "output_type": "display_data"
    },
    {
     "data": {
      "image/png": "[encoded data removed]",
      "text/plain": [
       "<Figure size 360x216 with 1 Axes>"
      ]
     },
     "metadata": {},
     "output_type": "display_data"
    },
    {
     "data": {
      "image/png": "[encoded data removed]",
      "text/plain": [
       "<Figure size 360x216 with 1 Axes>"
      ]
     },
     "metadata": {},
     "output_type": "display_data"
    },
    {
     "data": {
      "image/png": "[encoded data removed]",
      "text/plain": [
       "<Figure size 360x216 with 1 Axes>"
      ]
     },
     "metadata": {},
     "output_type": "display_data"
    },
    {
     "data": {
      "image/png": "[encoded data removed]",
      "text/plain": [
       "<Figure size 360x216 with 1 Axes>"
      ]
     },
     "metadata": {},
     "output_type": "display_data"
    },
    {
     "data": {
      "image/png": "[encoded data removed]",
      "text/plain": [
       "<Figure size 360x216 with 1 Axes>"
      ]
     },
     "metadata": {},
     "output_type": "display_data"
    },
    {
     "data": {
      "image/png": "[encoded data removed]",
      "text/plain": [
       "<Figure size 360x216 with 1 Axes>"
      ]
     },
     "metadata": {},
     "output_type": "display_data"
    }
   ],
   "source": [
    "# Analyse the Residuals\n",
    "for index , model in enumerate(models):\n",
    "    fig = plt.figure(figsize=(5,3))  \n",
    "    sns.scatterplot(models[model][\"predictions\"],y_test).set_title(model)\n",
    "    fig = plt.figure(figsize=(5,3))\n",
    "    sns.distplot((y_test - models[model][\"predictions\"]),kde=False).set_title(model)\n",
    "    plt.show() \n",
    "    "
   ]
  },
  {
   "cell_type": "code",
   "execution_count": null,
   "metadata": {},
   "outputs": [],
   "source": []
  }
 ],
 "metadata": {
  "kernelspec": {
   "display_name": "Python 3",
   "language": "python",
   "name": "python3"
  },
  "language_info": {
   "codemirror_mode": {
    "name": "ipython",
    "version": 3
   },
   "file_extension": ".py",
   "mimetype": "text/x-python",
   "name": "python",
   "nbconvert_exporter": "python",
   "pygments_lexer": "ipython3",
   "version": "3.8.5"
  }
 },
 "nbformat": 4,
 "nbformat_minor": 4
}
